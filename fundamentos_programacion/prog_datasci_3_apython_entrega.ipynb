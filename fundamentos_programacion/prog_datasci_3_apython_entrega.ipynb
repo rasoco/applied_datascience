{
  "nbformat": 4,
  "nbformat_minor": 0,
  "metadata": {
    "kernelspec": {
      "display_name": "Python 3",
      "language": "python",
      "name": "python3"
    },
    "language_info": {
      "codemirror_mode": {
        "name": "ipython",
        "version": 3
      },
      "file_extension": ".py",
      "mimetype": "text/x-python",
      "name": "python",
      "nbconvert_exporter": "python",
      "pygments_lexer": "ipython3",
      "version": "3.8.5"
    },
    "colab": {
      "name": "prog_datasci_3_apython_entrega.ipynb",
      "provenance": [],
      "include_colab_link": true
    }
  },
  "cells": [
    {
      "cell_type": "markdown",
      "metadata": {
        "id": "view-in-github",
        "colab_type": "text"
      },
      "source": [
        "<a href=\"https://colab.research.google.com/github/rasoco/applied_datascience/blob/main/fundamentos_programacion/prog_datasci_3_apython_entrega.ipynb\" target=\"_parent\"><img src=\"https://colab.research.google.com/assets/colab-badge.svg\" alt=\"Open In Colab\"/></a>"
      ]
    },
    {
      "cell_type": "markdown",
      "metadata": {
        "pycharm": {
          "name": "#%% md\n"
        },
        "id": "Kk2FQsddyEAu"
      },
      "source": [
        "Fundamentos de Programación\n",
        "============================\n",
        "\n",
        "\n",
        "En este Notebook se encontraréis el conjunto de actividades evaluables como PEC de la asignatura. Veréis que cada una de ellas tiene asociada una puntuación, que indica el peso que tiene la actividad sobre la nota final de la PEC. Adicionalmente, hay un ejercicio opcional, que no tiene puntuación dentro de la PEC, pero que se valora al final del semestre de cara a conceder las matrículas de honor y redondear las notas finales. Podréis sacar la máxima nota de la PEC sin necesidad de hacer este ejercicio. El objetivo de este ejercicio es que sirva como pequeño reto para los estudiantes que quieran profundizar en el contenido de la asignatura.\n",
        "\n",
        "Veréis que todas las actividades de la PEC tienen una etiqueta, que indica los recursos necesarios para llevarla a cabo. Hay tres posibles etiquetas:\n",
        "\n",
        "* <span style=\"font-family: Courier New; background-color: #82b74b; color: #000000; padding: 3px; \">NM</span> **Sólo materiales**: las herramientas necesarias para realizar la actividad se pueden encontrar en los materiales de la asignatura.\n",
        "\n",
        "* <span style = \"font-family: Courier New; background-color: #ffcc5c; color: #000000; padding: 3px; \">EG</span> **Consulta externa guiada**: la actividad puede requerir hacer uso de herramientas que no se encuentran en los materiales de la asignatura, pero el enunciado contiene indicaciones de dónde o cómo encontrar la información adicional necesaria para resolver la actividad.\n",
        "\n",
        "* <span style = \"font-family: Courier New; background-color: #f2ae72; color: #000000; padding: 3px;\">EI</span> **Consulta externa independiente**: la actividad puede requerir hacer uso de herramientas que no se encuentran en los materiales de la asignatura, y el enunciado puede no incluir la descripción de dónde o cómo encontrar esta información adicional. Será necesario que el estudiante busque esta información utilizando los recursos que se han explicado en la asignatura.\n",
        "\n",
        "Es importante notar que estas etiquetas no indican el nivel de dificultad del ejercicio, sino únicamente la necesidad de consulta de documentación externa para su resolución. Además, recordad que las **etiquetas son informativas**, pero podréis consultar referencias externas en cualquier momento (aunque no se indique explícitamente) o puede ser que podáis hacer una actividad sin consultar ningún tipo de documentación. Por ejemplo, para resolver una actividad que sólo requiera los materiales de la asignatura, puedéis consultar referencias externas si queréis, ya sea tanto para ayudaros en la resolución como para ampliar el conocimiento!\n",
        "\n",
        "En cuanto a la consulta de documentación externa en la resolución de los ejercicios, recordad **citar siempre la bibliografía utilizada** para resolver cada actividad.\n",
        "\n",
        "---"
      ]
    },
    {
      "cell_type": "markdown",
      "metadata": {
        "id": "VCILAHxFyEAu"
      },
      "source": [
        "### Ejercicio 1\n",
        "\n",
        "Dada la lista:"
      ]
    },
    {
      "cell_type": "code",
      "metadata": {
        "pycharm": {
          "name": "#%%\n"
        },
        "id": "bZVun21IyEAv"
      },
      "source": [
        "lst = [1, 5, 7, 13, 22, 15, 26, 64, 34, 72, 52, 14]"
      ],
      "execution_count": null,
      "outputs": []
    },
    {
      "cell_type": "markdown",
      "metadata": {
        "pycharm": {
          "name": "#%% md\n"
        },
        "id": "wzBWAiV8yEA4"
      },
      "source": [
        "a) Recorre la lista y muestra el índice y el valor de cada posición. <span style=\"font-family: Courier New; background-color: #82b74b; color: #000000; padding: 3px; \">NM</span> **(0.5 puntos)**"
      ]
    },
    {
      "cell_type": "code",
      "metadata": {
        "pycharm": {
          "name": "#%%\n"
        },
        "id": "3QobZt5NyEA4",
        "outputId": "b9723272-3cec-4672-d87d-0f3f47adca2d"
      },
      "source": [
        "for i, lista in enumerate(lst): # loops using enumerate show index and value\n",
        "    print(i, lista)\n"
      ],
      "execution_count": null,
      "outputs": [
        {
          "output_type": "stream",
          "text": [
            "0 1\n",
            "1 5\n",
            "2 7\n",
            "3 13\n",
            "4 22\n",
            "5 15\n",
            "6 26\n",
            "7 64\n",
            "8 34\n",
            "9 72\n",
            "10 52\n",
            "11 14\n"
          ],
          "name": "stdout"
        }
      ]
    },
    {
      "cell_type": "markdown",
      "metadata": {
        "id": "F8LYJM4OyEBM"
      },
      "source": [
        "b) Recorre la lista y muestra el índice y valor de cada posición, solo si el valor es múltiplo de 3. <span style=\"font-family: Courier New; background-color: #82b74b; color: #000000; padding: 3px; \">NM</span> **(0.5 puntos)**"
      ]
    },
    {
      "cell_type": "code",
      "metadata": {
        "pycharm": {
          "name": "#%%\n"
        },
        "id": "JcDIWMnQyEBN",
        "outputId": "fb7882be-b35e-4416-d4ba-0338bf4bfdbe"
      },
      "source": [
        "# Respuesta\n",
        "for i, lista in enumerate(lst): \n",
        "        if lista % 3 == 0: #conditional show the multiple of 3 \n",
        "            print(i, lista)"
      ],
      "execution_count": null,
      "outputs": [
        {
          "output_type": "stream",
          "text": [
            "5 15\n",
            "9 72\n"
          ],
          "name": "stdout"
        }
      ]
    },
    {
      "cell_type": "markdown",
      "metadata": {
        "id": "a3hNpM_yyEBO"
      },
      "source": [
        "c) Recorre las posiciones pares de la lista, iniciando en el índice 0, y muestra su valor si este es menor a 25. <span style=\"font-family: Courier New; background-color: #82b74b; color: #000000; padding: 3px; \">NM</span> **(0.5 puntos)**"
      ]
    },
    {
      "cell_type": "code",
      "metadata": {
        "pycharm": {
          "name": "#%%\n"
        },
        "id": "PvmLeAFMyEBO",
        "outputId": "56316a5c-24bb-46ba-f969-40b4fa0c17e5"
      },
      "source": [
        "# Respuesta:\n",
        "i = 0 \n",
        "\n",
        "for i, lista in enumerate(lst):\n",
        "    if i % 2 == 0: # First conditional, show values pair \n",
        "        if lista <= 25: # Second conditional, tha value is less than 25\n",
        "            print(i, lista)"
      ],
      "execution_count": null,
      "outputs": [
        {
          "output_type": "stream",
          "text": [
            "0 1\n",
            "2 7\n",
            "4 22\n"
          ],
          "name": "stdout"
        }
      ]
    },
    {
      "cell_type": "markdown",
      "metadata": {
        "id": "IFJnJPs1yEBS"
      },
      "source": [
        "\n",
        "d) Podemos ver que la lista no esta ordenada, podríamos crear una función que la ordenara... pero ya existe una función que nos permite hacer esto. Utiliza la función sort() y muestra el resultado tras ordenar la lista de menor a mayor. <span style = \"font-family: Courier New; background-color: #ffcc5c; color: #000000; padding: 3px; \">EG</span> **(0.5 puntos)**\n",
        "\n",
        "**Nota:** Podemos consultar como utilizar sort() en la documentación de Python, o en la siguiente referencia https://stackoverflow.com/questions/19199984/sort-a-list-in-python"
      ]
    },
    {
      "cell_type": "code",
      "metadata": {
        "pycharm": {
          "name": "#%%\n"
        },
        "id": "mEgB8AdJyEBT",
        "outputId": "4dc81b25-c05d-4d6a-ffa8-8844b839b76b"
      },
      "source": [
        "# Respuesta:\n",
        "\n",
        "sorted(lst, reverse=False) #Default reverse is False but i will indicate"
      ],
      "execution_count": null,
      "outputs": [
        {
          "output_type": "execute_result",
          "data": {
            "text/plain": [
              "[1, 5, 7, 13, 14, 15, 22, 26, 34, 52, 64, 72]"
            ]
          },
          "metadata": {
            "tags": []
          },
          "execution_count": 68
        }
      ]
    },
    {
      "cell_type": "markdown",
      "metadata": {
        "id": "ABC0-mEZyEBX"
      },
      "source": [
        "e) ¿Podrías mostrar la lista ordenada ahora de mayor a menor? <span style = \"font-family: Courier New; background-color: #ffcc5c; color: #000000; padding: 3px; \">EG</span>\n",
        "**(0.5 puntos)**\n",
        "\n",
        "**Nota:** Podemos consultar como utilizar sort() en la documentación de Python, o en  siguiente referencia https://stackoverflow.com/questions/19199984/sort-a-list-in-python"
      ]
    },
    {
      "cell_type": "code",
      "metadata": {
        "pycharm": {
          "name": "#%%\n"
        },
        "id": "nLBO4NbJyEBX",
        "outputId": "3d2d533d-caf7-45b6-a2dd-40c5273052dc"
      },
      "source": [
        "# Respuesta:\n",
        "sorted(lst, reverse=True)"
      ],
      "execution_count": null,
      "outputs": [
        {
          "output_type": "execute_result",
          "data": {
            "text/plain": [
              "[72, 64, 52, 34, 26, 22, 15, 14, 13, 7, 5, 1]"
            ]
          },
          "metadata": {
            "tags": []
          },
          "execution_count": 69
        }
      ]
    },
    {
      "cell_type": "markdown",
      "metadata": {
        "id": "7lqQm8rByEBY"
      },
      "source": [
        "### Ejercicio 2\n",
        "\n",
        "Python dispone de un **idiom** muy útil conocido como **list comprehension**. Utilizando este idiom,\n",
        "proporcionad **una** expresión que devuelva las listas siguientes.\n",
        "\n",
        "**Nota:**  Para realizar esta actividad necesitaréis investigar qué son las list comprehension y\n",
        "qué sintaxis utilizan. Para ello, se recomienda en primer lugar que utilicéis un buscador para encontrar\n",
        "información genérica sobre esta construcción. Después, os recomendamos que consultéis\n",
        "stackoverflow para ver algunos ejemplos de problemas que se pueden resolver con esta construcción.\n",
        "stackoverflow es un sitio de preguntas-y-respuestas muy popular entre programadores.\n",
        "\n",
        "Veréis que para la gran mayoría de las dudas que tengáis, habrá alguien que ya les habrá tenido (y consultado)\n",
        "anteriormente! Así pues, más allá de preguntar vosotros mismos las dudas allí (nosotros\n",
        "ya tenemos el foro del aula para ello!), consultar esta web os permitirá ver qué soluciones proponen\n",
        "otros programadores a estas dudas. A menudo habrá más de una solución a un mismo\n",
        "problema, y podréis valorar cuál es la más adecuada para vuestro problema.\n",
        "\n",
        "Para ver ejemplos de problemas que son adecuados para resolver con list comprehensions, os recomendamos las siguientes referencias:\n",
        "\n",
        "* https://stackoverflow.com/questions/12555443/squaring-all-elements-in-a-list\n",
        "* https://stackoverflow.com/questions/57166908/using-list-comprehension-i-want-to-print-odd-even-with-string-indicating-even/57167016\n",
        "\n",
        "\n",
        "a) Obtén con una sola expresion, una lista con el cuadrado más uno ($x^{2}$+1) de cada valor de la lista. <span style = \"font-family: Courier New; background-color: #ffcc5c; color: #000000; padding: 3px; \">EG</span> **(0.5 puntos)**"
      ]
    },
    {
      "cell_type": "code",
      "metadata": {
        "pycharm": {
          "name": "#%%\n"
        },
        "id": "zjrpXEG1yEBY",
        "outputId": "49cb3fb8-cc8b-4347-f99b-d2953216479c"
      },
      "source": [
        "lst = [1, 5, 7, 13, 22, 15, 26, 64, 34, 72, 52, 14]\n",
        "\n",
        "# Respuesta:\n",
        "\n",
        "lst2=[n**2+1 for n in lst]\n",
        "\n",
        "print(lst2)"
      ],
      "execution_count": null,
      "outputs": [
        {
          "output_type": "stream",
          "text": [
            "[2, 26, 50, 170, 485, 226, 677, 4097, 1157, 5185, 2705, 197]\n"
          ],
          "name": "stdout"
        }
      ]
    },
    {
      "cell_type": "markdown",
      "metadata": {
        "id": "EYxA57P6yEBZ"
      },
      "source": [
        "\n",
        "b) Obtén ahora, también con una expresión, una lista con los strings \"Odd\" y \"Even\" en función de si el número de la lista proporcionada es par o impar. <span style = \"font-family: Courier New; background-color: #ffcc5c; color: #000000; padding: 3px; \">EG</span> **(0.5 puntos)**"
      ]
    },
    {
      "cell_type": "code",
      "metadata": {
        "pycharm": {
          "name": "#%%\n"
        },
        "id": "6HfMXWjByEBZ",
        "outputId": "a686e6d2-44e2-4ed9-b171-1e0b30800e51"
      },
      "source": [
        "lst = [1, 5, 7, 13, 22, 15, 26, 64, 34, 72, 52, 14]\n",
        "# Respuesta:\n",
        "\n",
        "lst3 = [\"Even\" if n % 2 == 0 else \"Odd\" for n in lst] \n",
        "print(lst3)"
      ],
      "execution_count": null,
      "outputs": [
        {
          "output_type": "stream",
          "text": [
            "['Odd', 'Odd', 'Odd', 'Odd', 'Even', 'Odd', 'Even', 'Even', 'Even', 'Even', 'Even', 'Even']\n"
          ],
          "name": "stdout"
        }
      ]
    },
    {
      "cell_type": "markdown",
      "metadata": {
        "id": "gqW1fKv5yEBa"
      },
      "source": [
        "\n",
        "\n",
        "\n",
        "### Ejercicio 3\n",
        "\n",
        "Hace poco más de 10 años, la guipuzcoana Edurne Pasaban se convertía en la primera alpinista en coronar los catorce picos con una altura superior a 8000 metros del planeta. Elizabeth Hawley, conocida como la notaria del Himalaya, así lo reconoció tras no considerar clara una ascensión de la coreana Miss Oh que afirmaba haberlo logrado con anterioridad.\n",
        "\n",
        "**Nota:** Podemos ver los picos de los que hablamos en la siguiente referencia https://en.wikipedia.org/wiki/Eight-thousander\n",
        "\n",
        "a) Genera un diccionario, usando el nombre del pico como clave y la altitud (en metros) como valor. <span style = \"font-family: Courier New; background-color: #ffcc5c; color: #000000; padding: 3px; \">EG</span> **(0.5 puntos)**"
      ]
    },
    {
      "cell_type": "code",
      "metadata": {
        "pycharm": {
          "name": "#%%\n"
        },
        "id": "P6re3aWWyEBa"
      },
      "source": [
        "# Respuesta:\n",
        "mountain_peak = {\"Everest\": 8848, \"K2\": 8611, \"Kangchenjunga\": 8586,\n",
        "                 \"Lhotse\": 8516,\"Makalu\": 8485, \"Cho Oyu\": 8188,\n",
        "                \"Dhaulagiri I\": 8167, \"Manaslu\": 8163,\"Nanga Parbat\": 8125,\n",
        "                \"Annapurna I\": 8091,\"Gasherbrum I\": 8080,\"Broad Peak\": 8051,\n",
        "                \"Gasherbrum II\": 8034, \"Shishapangma\": 8027}"
      ],
      "execution_count": null,
      "outputs": []
    },
    {
      "cell_type": "markdown",
      "metadata": {
        "id": "zKlHsvq3yEBa"
      },
      "source": [
        "b) Recorre el diccionario y muestra el nombre de los picos con una altura superior a los 8200 metros. <span style=\"font-family: Courier New; background-color: #82b74b; color: #000000; padding: 3px; \">NM</span> **(0.5 puntos)**"
      ]
    },
    {
      "cell_type": "code",
      "metadata": {
        "pycharm": {
          "name": "#%%\n"
        },
        "id": "fRCBdVfLyEBa",
        "outputId": "c69357ca-051f-45af-bb31-b5a17f871f7e"
      },
      "source": [
        "# Respuesta:\n",
        "for key, value in mountain_peak.items():\n",
        "    if value >= 8200:\n",
        "        print(key, value)"
      ],
      "execution_count": null,
      "outputs": [
        {
          "output_type": "stream",
          "text": [
            "Everest 8848\n",
            "K2 8611\n",
            "Kangchenjunga 8586\n",
            "Lhotse 8516\n",
            "Makalu 8485\n"
          ],
          "name": "stdout"
        }
      ]
    },
    {
      "cell_type": "markdown",
      "metadata": {
        "id": "-GJh98TPyEBf"
      },
      "source": [
        "Superar los 8000 metros parece un reto muy importante, pero muchos países anglófonos como Estados Unidos, Canadá o el Reino Unido, utilizan el pie como unidad de medida.\n",
        "\n",
        "Si sabemos que un pie equivale a 0.3048 metros\n",
        "\n",
        "c) Crea una función que tenga como entrada un valor numérico en metros y retorne la misma distancia en pies. Muestra como ejemplo la equivalencia en pies a 8848 metros. <span style=\"font-family: Courier New; background-color: #82b74b; color: #000000; padding: 3px; \">NM</span> **(1 punto)**"
      ]
    },
    {
      "cell_type": "code",
      "metadata": {
        "pycharm": {
          "name": "#%%\n"
        },
        "id": "DTs_En0EyEBf",
        "outputId": "c23f6733-0315-4994-9aa0-186837bc0028"
      },
      "source": [
        "# Respuesta:\n",
        "def metres(x):\n",
        "    \n",
        "    pie = 0.3048\n",
        "    calculate = x/pie\n",
        "\n",
        "    return(calculate)\n",
        "metres(8848)"
      ],
      "execution_count": null,
      "outputs": [
        {
          "output_type": "execute_result",
          "data": {
            "text/plain": [
              "29028.871391076114"
            ]
          },
          "metadata": {
            "tags": []
          },
          "execution_count": 172
        }
      ]
    },
    {
      "cell_type": "markdown",
      "metadata": {
        "id": "52beei3_yEBg"
      },
      "source": [
        "d) Utilizando la función definida anteriormente muestra el valor de altitud de todos los picos en pies (recorriendo el diccionario, pero sin modificar el valor en metros). <span style=\"font-family: Courier New; background-color: #82b74b; color: #000000; padding: 3px; \">NM</span> **(0.5 puntos)**"
      ]
    },
    {
      "cell_type": "code",
      "metadata": {
        "pycharm": {
          "name": "#%%\n"
        },
        "id": "nVn7oaAwyEBg",
        "outputId": "c6742dcf-44f3-49fc-f98a-77d70a46f777"
      },
      "source": [
        "# Respuesta:\n",
        "for k, v in mountain_peak.items():\n",
        "        pie = metres(v)\n",
        "        print(k,pie)\n"
      ],
      "execution_count": null,
      "outputs": [
        {
          "output_type": "stream",
          "text": [
            "Everest 29028.871391076114\n",
            "K2 28251.312335958002\n",
            "Kangchenjunga 28169.291338582676\n",
            "Lhotse 27939.632545931756\n",
            "Makalu 27837.92650918635\n",
            "Cho Oyu 26863.517060367452\n",
            "Dhaulagiri I 26794.619422572177\n",
            "Manaslu 26781.496062992126\n",
            "Nanga Parbat 26656.824146981628\n",
            "Annapurna I 26545.27559055118\n",
            "Gasherbrum I 26509.186351706034\n",
            "Broad Peak 26414.041994750656\n",
            "Gasherbrum II 26358.267716535433\n",
            "Shishapangma 26335.30183727034\n"
          ],
          "name": "stdout"
        }
      ]
    },
    {
      "cell_type": "markdown",
      "metadata": {
        "id": "v5Oq5KobyEBh"
      },
      "source": [
        "e) Es posible que tras la conversion, se haya mostrado la altura con muchos decimales. Modifica la función implementada anteriormente para redondear el valor con un decimal, y vuelve a mostrar el resultado. <span style = \"font-family: Courier New; background-color: #ffcc5c; color: #000000; padding: 3px; \">EG</span> **(1 punto)**\n",
        "\n",
        "**Nota:** Podemos consultar como utilizar round() en la documentación de Python, o en la siguiente referencia: https://stackoverflow.com/questions/13479163/round-float-to-x-decimals/22155830"
      ]
    },
    {
      "cell_type": "code",
      "metadata": {
        "pycharm": {
          "name": "#%%\n"
        },
        "id": "9Wc9i5F3yEBh",
        "outputId": "e459bb5f-b83f-4e7a-d412-b22f461bf3ff"
      },
      "source": [
        "# Respuesta:\n",
        "for k, v in mountain_peak.items():\n",
        "    pie = round(metres(v), 1)\n",
        "    print(k, pie)"
      ],
      "execution_count": null,
      "outputs": [
        {
          "output_type": "stream",
          "text": [
            "Everest 29028.9\n",
            "K2 28251.3\n",
            "Kangchenjunga 28169.3\n",
            "Lhotse 27939.6\n",
            "Makalu 27837.9\n",
            "Cho Oyu 26863.5\n",
            "Dhaulagiri I 26794.6\n",
            "Manaslu 26781.5\n",
            "Nanga Parbat 26656.8\n",
            "Annapurna I 26545.3\n",
            "Gasherbrum I 26509.2\n",
            "Broad Peak 26414.0\n",
            "Gasherbrum II 26358.3\n",
            "Shishapangma 26335.3\n"
          ],
          "name": "stdout"
        }
      ]
    },
    {
      "cell_type": "markdown",
      "metadata": {
        "id": "zSvDkFHCyEBz"
      },
      "source": [
        "### Ejercicio 4\n",
        "Alguna noche habremos mirado atentamente al cielo, observando las estrellas. Quizás también hayamos visto, sin saberlo, alguno de los satélites que orbitan alrededor de la Tierra.\n",
        "En Enero del 2020 existían más de 2500. En el fichero 'UCS-Satellite-Database.csv', podemos encontrar alguna información básica sobre ellos.\n",
        "Esta información ha sido obtenida de la siguiente web https://www.ucsusa.org/resources/satellite-database .\n",
        "\n",
        "El fichero con el formato Comma Separated File (CSV) tiene tres columnas de información, separadas entre ellas con un punto y coma, como podéis ver si visualizáis el fichero en un editor de texto.\n",
        "La primera fila contiene la cabecera, que define cada una de las columnas.\n",
        "La primera columna define el tipo de uso del satélite, la segunda su nombre, y la última, el país del propietario.\n",
        "\n",
        "a) Abre el fichero, recórrelo fila a fila, y obtén el numero total de satélites, y cuántos de ellos son de uso exclusivamente Civil. <span style=\"font-family: Courier New; background-color: #82b74b; color: #000000; padding: 3px; \">NM</span> **(1.5 puntos)**\n"
      ]
    },
    {
      "cell_type": "code",
      "metadata": {
        "id": "kZAF9N8fyEBz",
        "outputId": "c29f0d3c-1e8f-4140-d161-2d17d48e5d02"
      },
      "source": [
        "# Respuesta:\n",
        "data = [] #create a list to save the data \n",
        "file = open(\"data/UCS-Satellite-Database.csv\", \"r\") #open the file\n",
        "civil = 0 # count to the civil\n",
        "for line in file: #loops for iteration of file\n",
        "    total_satelites = len(data) #lenght of data \n",
        "    if \"Civil\" in line:  #looking total Civil of line\n",
        "        civil = civil + 1 #count to sum of civil \n",
        "    \n",
        "    data.append(line.rstrip(\"\\n\")) #save the result in list data.  \n",
        "print(\"El número total de satelites son: %d, el nº de Civil son %d: \" % (total_satelites, civil))#show the results"
      ],
      "execution_count": null,
      "outputs": [
        {
          "output_type": "stream",
          "text": [
            "El número total de satelites son: 2678, el nº de Civil son 196: \n"
          ],
          "name": "stdout"
        }
      ]
    },
    {
      "cell_type": "markdown",
      "metadata": {
        "pycharm": {
          "name": "#%% md\n"
        },
        "id": "S_uzbpTcyEB0"
      },
      "source": [
        "c) Realiza de nuevo el apartado a) pero esta vez utilizando alguna librería de python que automatice la lectura del fichero csv. <span style = \"font-family: Courier New; background-color: #f2ae72; color: #000000; padding: 3px;\">EI</span> **(OPCIONAL)**\n",
        "\n",
        "**NOTA**: Puedes consultar en  https://docs.python.org/3.7/library/csv.html"
      ]
    },
    {
      "cell_type": "code",
      "metadata": {
        "pycharm": {
          "name": "#%%\n"
        },
        "id": "0XkZch5TyEB0",
        "outputId": "c57e6c59-7642-430c-9b06-27624c61e040"
      },
      "source": [
        "# Respuesta:\n",
        "import pandas as pd #Pandas is a library that manipulating of data \n",
        "\n",
        "df = pd.read_csv(\"data/UCS-Satellite-Database.csv\",sep = \";\") #read dataset\n",
        "df.head() #show first data\n",
        "df['Users'].count() #Get the total of Satellite. "
      ],
      "execution_count": null,
      "outputs": [
        {
          "output_type": "execute_result",
          "data": {
            "text/plain": [
              "2666"
            ]
          },
          "metadata": {
            "tags": []
          },
          "execution_count": 97
        }
      ]
    },
    {
      "cell_type": "code",
      "metadata": {
        "id": "0_yzVTVSyEB2",
        "outputId": "4078eb07-47d6-4029-e94b-199e5adea386"
      },
      "source": [
        "df[df[\"Users\"]==\"Civil\"].count() #Count the Civil Satellite"
      ],
      "execution_count": null,
      "outputs": [
        {
          "output_type": "execute_result",
          "data": {
            "text/plain": [
              "Users                                 133\n",
              "Name of Satellite, Alternate Names    133\n",
              "Country of Operator/Owner             133\n",
              "dtype: int64"
            ]
          },
          "metadata": {
            "tags": []
          },
          "execution_count": 96
        }
      ]
    },
    {
      "cell_type": "markdown",
      "metadata": {
        "id": "m9TnmWTMyEB2"
      },
      "source": [
        "\n"
      ]
    }
  ]
}