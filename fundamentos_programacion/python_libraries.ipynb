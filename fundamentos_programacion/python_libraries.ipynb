{
  "nbformat": 4,
  "nbformat_minor": 0,
  "metadata": {
    "kernelspec": {
      "display_name": "Python 3",
      "language": "python",
      "name": "python3"
    },
    "language_info": {
      "codemirror_mode": {
        "name": "ipython",
        "version": 3
      },
      "file_extension": ".py",
      "mimetype": "text/x-python",
      "name": "python",
      "nbconvert_exporter": "python",
      "pygments_lexer": "ipython3",
      "version": "3.8.5"
    },
    "colab": {
      "name": "prog_datasci_4_scilib_entrega.ipynb",
      "provenance": [],
      "include_colab_link": true
    }
  },
  "cells": [
    {
      "cell_type": "markdown",
      "metadata": {
        "id": "view-in-github",
        "colab_type": "text"
      },
      "source": [
        "<a href=\"https://colab.research.google.com/github/rasoco/applied_datascience/blob/main/fundamentos_programacion/prog_datasci_4_scilib_entrega.ipynb\" target=\"_parent\"><img src=\"https://colab.research.google.com/assets/colab-badge.svg\" alt=\"Open In Colab\"/></a>"
      ]
    },
    {
      "cell_type": "markdown",
      "metadata": {
        "id": "4uz-38G3zTwd"
      },
      "source": [
        "<div style=\"width: 100%; clear: both;\">\n",
        "    <div style=\"float: left; width: 50%;\">\n",
        "       <img src=\"http://www.uoc.edu/portal/_resources/common/imatges/marca_UOC/UOC_Masterbrand.jpg\", align=\"left\">\n",
        "    </div>\n",
        "</div>\n",
        "\n",
        "<div style=\"float: right; width: 50%;\">\n",
        "    <p style=\"margin: 0; padding-top: 22px; text-align:right;\">22.501 · Fundamentos de Programación</p>\n",
        "    <p style=\"margin: 0; text-align:right;\">Grado en Ciencia de Datos Aplicada</p>\n",
        "    <p style=\"margin: 0; text-align:right; padding-button: 100px;\">Estudios de Informática, Multimedia y Telecomunicación</p>\n",
        "</div>\n",
        "\n",
        "</div>\n",
        "<div style=\"width: 100%; clear: both;\">\n",
        "<div style=\"width:100%;\">&nbsp;</div>"
      ]
    },
    {
      "cell_type": "markdown",
      "metadata": {
        "id": "niO8Vn1_zTwd"
      },
      "source": [
        "Fundamentos de Programación\n",
        "============================\n",
        "\n",
        "PEC 4 - Enunciado\n",
        "-----------------------------------------------------\n",
        "\n",
        "En este Notebook se encontraréis el conjunto de actividades evaluables como PEC de la asignatura. Veréis que cada una de ellas tiene asociada una puntuación, que indica el peso que tiene la actividad sobre la nota final de la PEC. Adicionalmente, hay un ejercicio opcional, que no tiene puntuación dentro de la PEC, pero que se valora al final del semestre de cara a conceder las matrículas de honor y redondear las notas finales. Podréis sacar la máxima nota de la PAC sin necesidad de hacer este ejercicio. El objetivo de este ejercicio es que sirva como pequeño reto para los estudiantes que quieran profundizar en el contenido de la asignatura.\n",
        "\n",
        "Veréis que todas las actividades de la PEC tienen una etiqueta, que indica los recursos necesarios para llevarla a cabo. Hay tres posibles etiquetas:\n",
        "\n",
        "* <span style=\"font-family: Courier New; background-color: #82b74b; color: #000000; padding: 3px; \">NM</span> **Sólo materiales**: las herramientas necesarias para realizar la actividad se pueden encontrar en los materiales de la asignatura.\n",
        "\n",
        "* <span style = \"font-family: Courier New; background-color: #ffcc5c; color: #000000; padding: 3px; \">EG</span> **Consulta externa guiada**: la actividad puede requerir hacer uso de herramientas que no se encuentran en los materiales de la asignatura, pero el enunciado contiene indicaciones de dónde o cómo encontrar la información adicional necesaria para resolver la actividad.\n",
        "\n",
        "* <span style = \"font-family: Courier New; background-color: #f2ae72; color: #000000; padding: 3px;\">EI</span> **Consulta externa independiente**: la actividad puede requerir hacer uso de herramientas que no se encuentran en los materiales de la asignatura, y el enunciado puede no incluir la descripción de dónde o cómo encontrar esta información adicional. Será necesario que el estudiante busque esta información utilizando los recursos que se han explicado en la asignatura.\n",
        "\n",
        "Es importante notar que estas etiquetas no indican el nivel de dificultad del ejercicio, sino únicamente la necesidad de consulta de documentación externa para su resolución. Además, recordad que las **etiquetas son informativas**, pero podréis consultar referencias externas en cualquier momento (aunque no se indique explícitamente) o puede ser que podáis hacer una actividad sin consultar ningún tipo de documentación. Por ejemplo, para resolver una actividad que sólo requiera los materiales de la asignatura, puedéis consultar referencias externas si queréis, ya sea tanto para ayudaros en la resolución como para ampliar el conocimiento!\n",
        "\n",
        "En cuanto a la consulta de documentación externa en la resolución de los ejercicios, recordad **citar siempre la bibliografía utilizada** para resolver cada actividad.\n",
        "\n",
        "---"
      ]
    },
    {
      "cell_type": "markdown",
      "metadata": {
        "id": "CC2vkFezzTwe"
      },
      "source": [
        "Ejercicios para la PEC\n",
        "-------------------------------"
      ]
    },
    {
      "cell_type": "markdown",
      "metadata": {
        "id": "4hiFsYdbzTwe"
      },
      "source": [
        "<span style=\"color: #1d17f4; padding: 3px; font-size: x-large\">NumPy - Ejercicios</span>"
      ]
    },
    {
      "cell_type": "markdown",
      "metadata": {
        "id": "Dsc1buNyzTwj"
      },
      "source": [
        "### Ejercicio 1\n",
        "\n",
        "Crea y muestra por pantalla las matrices siguientes: **(0.25 puntos)**\n",
        "\n",
        "- Una matriz 3x3 que contenga todos los enteros entre 0 y 8.\n",
        "- La matriz identidad 3x3.\n",
        "- Una matriz 5x3 con valores reales aleatorios (*Random*).\n",
        "\n",
        "Considerando las matrices del apartado anterior, muestra por pantalla el resultado de las siguientes operaciones: **(0.25 puntos)**\n",
        "\n",
        "- Multiplicar las matrices A y B. Explica el resultado obtenido.\n",
        "- Multiplicar las matrices A y C. Explica brevemente qué método de multiplicación has elegido y el resultado obtenido.\n",
        "\n",
        "**(0.5 puntos)** <span style=\"font-family: Courier New; background-color: #82b74b; color: #000000; padding: 2px; \">NM</span>"
      ]
    },
    {
      "cell_type": "code",
      "metadata": {
        "id": "W2gXRIdjzTwj"
      },
      "source": [
        "# Load library numpy as np \n",
        "import numpy as np"
      ],
      "execution_count": null,
      "outputs": []
    },
    {
      "cell_type": "code",
      "metadata": {
        "id": "ITI50y-lzTwj",
        "outputId": "0c0770e8-f78f-4164-bd32-aa0fb10583ab"
      },
      "source": [
        "# Create a matrix 3x3 \n",
        "x = np.arange(0,9).reshape(3,3)\n",
        "print(x)"
      ],
      "execution_count": null,
      "outputs": [
        {
          "output_type": "stream",
          "text": [
            "[[0 1 2]\n",
            " [3 4 5]\n",
            " [6 7 8]]\n"
          ],
          "name": "stdout"
        }
      ]
    },
    {
      "cell_type": "code",
      "metadata": {
        "id": "lqZjwcunzTwm",
        "outputId": "f918029e-272f-4685-cf80-36e581ea9f24"
      },
      "source": [
        "# Create a identity matrix using fuction\n",
        "matrix_identity = np.identity(3)\n",
        "print(matrix_identity)"
      ],
      "execution_count": null,
      "outputs": [
        {
          "output_type": "stream",
          "text": [
            "[[1. 0. 0.]\n",
            " [0. 1. 0.]\n",
            " [0. 0. 1.]]\n"
          ],
          "name": "stdout"
        }
      ]
    },
    {
      "cell_type": "code",
      "metadata": {
        "id": "iW9A8T_OzTwp",
        "outputId": "6dedf06d-0603-4975-bbc0-4746ecf8b213"
      },
      "source": [
        "# Create a random matrix using random_integers, the number between 0 until 5 inclusive.\n",
        "matrix_random = np.random.random_integers(5, size=(5,3)) \n",
        "print(matrix_random)"
      ],
      "execution_count": null,
      "outputs": [
        {
          "output_type": "stream",
          "text": [
            "[[2 3 4]\n",
            " [1 2 5]\n",
            " [1 3 2]\n",
            " [2 5 1]\n",
            " [3 4 3]]\n"
          ],
          "name": "stdout"
        },
        {
          "output_type": "stream",
          "text": [
            "<ipython-input-6-8da715aaa280>:2: DeprecationWarning: This function is deprecated. Please call randint(1, 5 + 1) instead\n",
            "  matrix_random = np.random.random_integers(5, size=(5,3))\n"
          ],
          "name": "stderr"
        }
      ]
    },
    {
      "cell_type": "code",
      "metadata": {
        "id": "BrjhgkR-zTwq",
        "outputId": "8d7125f6-566c-44bc-9d95-97cf438f4b63"
      },
      "source": [
        "# Dot product of two arrays (x is A and matrix_identity is B) \n",
        "print(x.dot(matrix_identity))"
      ],
      "execution_count": null,
      "outputs": [
        {
          "output_type": "stream",
          "text": [
            "[[0. 1. 2.]\n",
            " [3. 4. 5.]\n",
            " [6. 7. 8.]]\n"
          ],
          "name": "stdout"
        }
      ]
    },
    {
      "cell_type": "code",
      "metadata": {
        "id": "N4RKERmIzTws",
        "outputId": "ae9a4890-b5db-4658-bfbc-1354c7b93a46"
      },
      "source": [
        "# Dot product of two arrays (x is A and matrix_random is C) A has a 3x3 dimension C has a 5x3 dimension. \n",
        "# So to multiply both arrays, the C matrix change to transpose matrix so we can get a 3x5 dimesion. \n",
        "# So now we can multiply both arrays because has the same dimension of rows. \n",
        "print(x.dot(matrix_random.T))"
      ],
      "execution_count": null,
      "outputs": [
        {
          "output_type": "stream",
          "text": [
            "[[11 12  7  7 10]\n",
            " [38 36 25 31 40]\n",
            " [65 60 43 55 70]]\n"
          ],
          "name": "stdout"
        }
      ]
    },
    {
      "cell_type": "markdown",
      "metadata": {
        "id": "hAJXdLd_zTwt"
      },
      "source": [
        "### Ejercicio 2\n",
        "\n",
        "Crea un array de NumPy 1D de 11 elementos (los enteros de 0 a 10) ordenados ascendentemente. A continuación, pon en negativo todos los elementos que estén entre 3 y 8, y muestra el array resultante.\n",
        "\n",
        "**(0.5 puntos)** <span style=\"font-family: Courier New; background-color: #82b74b; color: #000000; padding: 2px; \">NM</span>"
      ]
    },
    {
      "cell_type": "code",
      "metadata": {
        "id": "6j6beYrWzTwt",
        "outputId": "cd871d8a-3257-4692-cc56-16af2aa6b0e4"
      },
      "source": [
        "# Create an array with number 0 until 10. \n",
        "array = np.arange(0,11)\n",
        "\n",
        "array"
      ],
      "execution_count": null,
      "outputs": [
        {
          "output_type": "execute_result",
          "data": {
            "text/plain": [
              "array([ 0,  1,  2,  3,  4,  5,  6,  7,  8,  9, 10])"
            ]
          },
          "metadata": {
            "tags": []
          },
          "execution_count": 9
        }
      ]
    },
    {
      "cell_type": "code",
      "metadata": {
        "id": "HRSsk38FzTwu",
        "outputId": "a3826554-7c4f-43b4-dbb1-d7bbe75f3173"
      },
      "source": [
        "# Array between 3 and 8 in negative\n",
        "\n",
        "array[3:9]*(-1)"
      ],
      "execution_count": null,
      "outputs": [
        {
          "output_type": "execute_result",
          "data": {
            "text/plain": [
              "array([-3, -4, -5, -6, -7, -8])"
            ]
          },
          "metadata": {
            "tags": []
          },
          "execution_count": 10
        }
      ]
    },
    {
      "cell_type": "markdown",
      "metadata": {
        "id": "iU1FpS5CzTwv"
      },
      "source": [
        "### Ejercicio 3 \n",
        "\n",
        "Crea una matriz de 7x7 donde los valores de cada posición `(i, j)` correspondan a `(y + 1) ^ - j + 2` para todo` i` múltiplo de 3 y `(y + 1) ^ j - 3` por el resto de posiciones.\n",
        "\n",
        "**(0.5 puntos)** <span style=\"font-family: Courier New; background-color: #82b74b; color: #000000; padding: 2px; \">NM</span>"
      ]
    },
    {
      "cell_type": "code",
      "metadata": {
        "id": "R6AE3yF-zTwv",
        "outputId": "eddea163-5a5a-4e34-84dd-b061cb9484d3"
      },
      "source": [
        "#Create matrix 7x7\n",
        "matrix_3 = np.arange(0, 49).reshape(7, 7)\n",
        "\n",
        "#Make a loops of the range matrix\n",
        "for x in range(matrix_3.shape[0]):\n",
        "    for y in range(matrix_3.shape[1]):\n",
        "        if x % 3 == 0:\n",
        "            v = (x + 1) ^ (-y + 2)\n",
        "            matrix_3[x, y] = v\n",
        "        else:\n",
        "            v = (x + 1) ^ (-y + 3)\n",
        "            matrix_3[x, y] = v\n",
        "#Show results\n",
        "print(matrix_3)"
      ],
      "execution_count": null,
      "outputs": [
        {
          "output_type": "stream",
          "text": [
            "[[ 3  0  1 -2 -1 -4 -3]\n",
            " [ 1  0  3  2 -3 -4 -1]\n",
            " [ 0  1  2  3 -4 -3 -2]\n",
            " [ 6  5  4 -5 -6 -7 -8]\n",
            " [ 6  7  4  5 -6 -5 -8]\n",
            " [ 5  4  7  6 -7 -8 -5]\n",
            " [ 5  6  7 -8 -7 -6 -5]]\n"
          ],
          "name": "stdout"
        }
      ]
    },
    {
      "cell_type": "markdown",
      "metadata": {
        "id": "oOU1f4ptzTww"
      },
      "source": [
        "### Ejercicio 4\n",
        "\n",
        "Normaliza una matriz aleatoria de 5x5 mediante su `media` y` desviación estàndard` tal como se indica en el siguiente [enlace](https://es.wikipedia.org/wiki/Unidad_tipificada). Comprueba que la media y la desviación estándar de la matriz normalizada son bastante cercanas a 0 y 1 respectivamente.\n",
        "\n",
        "**Nota:** Para resolver este ejercicio os pueden ser de utilidad las funciones [mean](https://numpy.org/doc/stable/reference/generated/numpy.mean.html) o [std](https://numpy.org/doc/stable/reference/generated/numpy.std.html) de Numpy.\n",
        "\n",
        "**(0.5 puntos)** <span style=\"font-family: Courier New; background-color: #ffcc5c; color: #000000; padding: 3px; \">EG</span>\n"
      ]
    },
    {
      "cell_type": "code",
      "metadata": {
        "id": "u9vWZK9_zTwx",
        "outputId": "48535cae-5a57-44a8-e0fd-ca2612d33d33"
      },
      "source": [
        "# Create random matrix \n",
        "matrix_random2 = np.random.random((5,5))\n",
        "matrix_random2"
      ],
      "execution_count": null,
      "outputs": [
        {
          "output_type": "execute_result",
          "data": {
            "text/plain": [
              "array([[0.15667731, 0.08084496, 0.65254141, 0.89252614, 0.88795029],\n",
              "       [0.83117951, 0.78249599, 0.15367855, 0.7034864 , 0.66486661],\n",
              "       [0.26328674, 0.38404958, 0.20172375, 0.43198985, 0.45761433],\n",
              "       [0.50846915, 0.32584292, 0.10624259, 0.30667119, 0.75679887],\n",
              "       [0.54557622, 0.2917535 , 0.07334792, 0.59793405, 0.93705928]])"
            ]
          },
          "metadata": {
            "tags": []
          },
          "execution_count": 12
        }
      ]
    },
    {
      "cell_type": "code",
      "metadata": {
        "id": "rIFkmIlyzTwx",
        "outputId": "c8d704d0-826e-4197-b372-77930ed21011"
      },
      "source": [
        "# Mean of matrix\n",
        "matrix_random2.mean() "
      ],
      "execution_count": null,
      "outputs": [
        {
          "output_type": "execute_result",
          "data": {
            "text/plain": [
              "0.47978428419522534"
            ]
          },
          "metadata": {
            "tags": []
          },
          "execution_count": 13
        }
      ]
    },
    {
      "cell_type": "code",
      "metadata": {
        "id": "-lrj3i5UzTwz",
        "outputId": "e051e7c6-6905-4d5e-ff66-6bb8d6af9916"
      },
      "source": [
        "#Standard desviation\n",
        "np.std(matrix_random2) "
      ],
      "execution_count": null,
      "outputs": [
        {
          "output_type": "execute_result",
          "data": {
            "text/plain": [
              "0.2735639403430868"
            ]
          },
          "metadata": {
            "tags": []
          },
          "execution_count": 14
        }
      ]
    },
    {
      "cell_type": "code",
      "metadata": {
        "id": "YkyWO433zTw0",
        "outputId": "05df701c-9cf5-4cae-fa39-b2563d13c3a5"
      },
      "source": [
        "# Create new normalize matrix, it makes a mean of matrix_random2 minus of each value of matrix_random2 and divide\n",
        "# of standard desviation\n",
        "matrix_normalize = (matrix_random2.mean() - matrix_random2) / (np.std(matrix_random2))\n",
        "matrix_normalize"
      ],
      "execution_count": null,
      "outputs": [
        {
          "output_type": "execute_result",
          "data": {
            "text/plain": [
              "array([[ 1.18110223,  1.45830377, -0.63150546, -1.50875826, -1.49203148],\n",
              "       [-1.28450858, -1.10654827,  1.19206403, -0.81773246, -0.67655967],\n",
              "       [ 0.79139649,  0.34995368,  1.01643707,  0.17471028,  0.08104121],\n",
              "       [-0.10485616,  0.56272537,  1.36546393,  0.63280671, -1.01261367],\n",
              "       [-0.2404993 ,  0.68733762,  1.48570884, -0.43189085, -1.67154705]])"
            ]
          },
          "metadata": {
            "tags": []
          },
          "execution_count": 15
        }
      ]
    },
    {
      "cell_type": "markdown",
      "metadata": {
        "id": "-zr9I4aczTw1"
      },
      "source": [
        "### Ejercicio 5\n",
        "\n",
        "Crea una matriz 10x10 con 1 en el borde exterior y 0 en el interior.\n",
        "\n",
        "**Nota:** Podéis comprobar el resultado visualmente con la función [imshow](https://matplotlib.org/3.1.3/api/_as_gen/matplotlib.pyplot.imshow.html) de Matplotlib que ens permet visualitzar una imatge 2D.\n",
        "\n",
        "**(1 punto)** <span style=\"font-family: Courier New; background-color: #82b74b; color: #000000; padding: 2px; \">NM</span>"
      ]
    },
    {
      "cell_type": "code",
      "metadata": {
        "id": "fRkIgnHszTw1",
        "outputId": "717df274-e07f-41b8-efd5-147b3a9a2d86"
      },
      "source": [
        "# Create a matrix 10x10 \n",
        "matrix_10 = np.ones((10,10))\n",
        "\n",
        "# Change the value between 1 until 8 position with 0 \n",
        "matrix_10[:,1:-1] = 0\n",
        "\n",
        "#Show the matrix \n",
        "print(matrix_10)"
      ],
      "execution_count": null,
      "outputs": [
        {
          "output_type": "stream",
          "text": [
            "[[1. 0. 0. 0. 0. 0. 0. 0. 0. 1.]\n",
            " [1. 0. 0. 0. 0. 0. 0. 0. 0. 1.]\n",
            " [1. 0. 0. 0. 0. 0. 0. 0. 0. 1.]\n",
            " [1. 0. 0. 0. 0. 0. 0. 0. 0. 1.]\n",
            " [1. 0. 0. 0. 0. 0. 0. 0. 0. 1.]\n",
            " [1. 0. 0. 0. 0. 0. 0. 0. 0. 1.]\n",
            " [1. 0. 0. 0. 0. 0. 0. 0. 0. 1.]\n",
            " [1. 0. 0. 0. 0. 0. 0. 0. 0. 1.]\n",
            " [1. 0. 0. 0. 0. 0. 0. 0. 0. 1.]\n",
            " [1. 0. 0. 0. 0. 0. 0. 0. 0. 1.]]\n"
          ],
          "name": "stdout"
        }
      ]
    },
    {
      "cell_type": "code",
      "metadata": {
        "id": "9gBk4Z8OzTw4",
        "outputId": "4942e4c7-488f-465d-93dc-b5efb223d1db"
      },
      "source": [
        "# Import library matplotlib \n",
        "import matplotlib.pyplot as plt\n",
        "\n",
        "# Show the matrix 10\n",
        "plt.imshow(matrix_10)"
      ],
      "execution_count": null,
      "outputs": [
        {
          "output_type": "execute_result",
          "data": {
            "text/plain": [
              "<matplotlib.image.AxesImage at 0x7f32f4faf340>"
            ]
          },
          "metadata": {
            "tags": []
          },
          "execution_count": 17
        },
        {
          "output_type": "display_data",
          "data": {
            "image/png": "[encoded data removed]",
            "text/plain": [
              "<Figure size 432x288 with 1 Axes>"
            ]
          },
          "metadata": {
            "tags": [],
            "needs_background": "light"
          }
        }
      ]
    },
    {
      "cell_type": "markdown",
      "metadata": {
        "id": "2YD2jN-pzTw5"
      },
      "source": [
        "<br>\n",
        "<span style=\"color: #1d17f4; padding: 3px; font-size: x-large\">Matplotlib - Ejercicios</span>"
      ]
    },
    {
      "cell_type": "markdown",
      "metadata": {
        "id": "FLiVMoF4zTw5"
      },
      "source": [
        "### Ejercicio 1\n",
        "\n",
        "Representa en un único gráfico las funciones logarítmicas $\\log_{10}(x)$, $\\log_{2}(x)$ y $\\ln(x)$, evaluadas en el intervalo [0.1, 5] y con paso (resolución) 0.02. Haz que los rangos de valores mostrados sean `[0.1, 5]` para el eje X y `[-3, 3]` por el eje Y. Adicionalmente, muestra la gráfica correspondiente a $\\log_{10}(x)$ con color <span style=\"color: green\">verde</span>, la gráfica correspondiente a $\\ln(x)$ con color <span style=\"color: red\">rojo</span> y la gráfica correspondiente a $\\log_{2}(x)$ con color <span style=\"color: blue\">azul</span>.\n",
        "\n",
        "**Nota:** Podéis consultar la documentación de [logaritmos](https://numpy.org/doc/stable/reference/generated/numpy.log.html#numpy.log) de numpy.\n",
        "\n",
        "**(0.5 puntos)** <span style=\"font-family: Courier New; background-color: #82b74b; color: #000000; padding: 2px; \">NM</span>"
      ]
    },
    {
      "cell_type": "code",
      "metadata": {
        "id": "bzKeRumbzTw5"
      },
      "source": [
        "# Definimos las funciones\n",
        "def f1(x):\n",
        "    return np.log10(x)\n",
        "\n",
        "def f2(x):\n",
        "    return np.log(x)\n",
        "\n",
        "def f3(x):\n",
        "    return np.log2(x)"
      ],
      "execution_count": null,
      "outputs": []
    },
    {
      "cell_type": "code",
      "metadata": {
        "id": "TjM-lksDzTw5",
        "outputId": "f5287626-2a01-45c4-b719-8033753d9327"
      },
      "source": [
        "# Import library matplolib\n",
        "import matplotlib.pyplot as plt\n",
        "\n",
        "#Values of X e y\n",
        "X = [0.1, 5]\n",
        "y = [-3, 3]\n",
        "\n",
        "# Resolution of figure 0.02\n",
        "plt.figure(0.02)\n",
        "\n",
        "#Create plot per each\n",
        "plt.plot(f1(X), y, 'g')\n",
        "plt.plot(f2(X), y, 'r')\n",
        "plt.plot(f3(X), y, 'b')\n",
        "\n",
        "#Show the graphic\n",
        "plt.show()"
      ],
      "execution_count": null,
      "outputs": [
        {
          "output_type": "display_data",
          "data": {
            "image/png": "[encoded data removed]",
            "text/plain": [
              "<Figure size 432x288 with 1 Axes>"
            ]
          },
          "metadata": {
            "tags": [],
            "needs_background": "light"
          }
        }
      ]
    },
    {
      "cell_type": "markdown",
      "metadata": {
        "id": "VXZDdYeYzTw6"
      },
      "source": [
        "### Ejercicio 2\n",
        "\n",
        "Carga los datos del archivo `prog_book.csv`, que puedes encontrar en la carpeta` data`, en forma de dataframe. Este conjunto de datos de la web [Kaggle](https://www.kaggle.com/thomaskonstantin/top-270-rated-computer-science-programing-books) recoge información de una lista de 270 libros de temas relacionados con la informática y la programación.\n",
        "\n",
        "Parte A **(0.5 puntos)** : \n",
        "\n",
        "Muestra el histograma de las valoraciones (*Rating*).\n",
        "\n",
        "\n",
        "*Consideraciones*\n",
        "\n",
        "* El histograma debe tener 20 bins y ser de color verde.\n",
        "\n",
        "\n",
        "Parte B **(0.5 puntos)** :\n",
        "\n",
        "Muestra un gráfico de puntos (*scatter plot*) de las valoraciones en función del precio (*Price*). Diferencia los puntos en función del tipo de libro (*Type*).\n",
        "\n",
        "*Consideraciones*\n",
        "\n",
        "* Para pintar de un color diferente cada punto en función del tipo de libro, puede que tengas que pasar esta información a numérico (e.g. Libro = 1, Ebook = 2, etc). Una opción para hacerlo es utilizar la función [LabelEncoder](https://scikit-learn.org/stable/modules/generated/sklearn.preprocessing.LabelEncoder.html) de sklearn.\n",
        "\n",
        "* Incluye la leyenda del *scatter plot*.\n",
        "\n",
        "\n",
        "Parte C **(0.5 puntos)** :\n",
        "\n",
        "Muestra un gráfico circular (*pie chart*) con los tipos de libros en porcentaje.\n",
        "\n",
        "\n",
        "*Consideraciones*\n",
        "\n",
        "* Debes incluir el porcentaje (%) de cada tipo de libro dentro de su respectivo espacio del gráfico.\n",
        "* Se debe mostrar la leyenda en la parte derecha.\n",
        "\n",
        "**Nota:** En el Notebook de teoría hemos visto cómo mostrar gráficos lineares simples. Matplotlib nos ofrece muchos otros tipos de gráficos, siendo los gráficos circulares (*pie charts*) o los *scatter plots* uno de ellos. Para resolver este ejercicio podéis consultar la documentación oficial de matplotlib referente a [*pie charts*](https://matplotlib.org/api/_as_gen/matplotlib.pyplot.pie.html) y los [*scatter plots*](https : //matplotlib.org/3.3.2/api/_as_gen/matplotlib.pyplot.scatter.html) para ver cómo se trabaja con estos tipos de gráficos.\n",
        "\n",
        "**(1.5 puntos)** <span style=\"font-family: Courier New; background-color: #ffcc5c; color: #000000; padding: 3px; \">EG</span>"
      ]
    },
    {
      "cell_type": "code",
      "metadata": {
        "id": "nRjRBNc6zTw6",
        "outputId": "a560941b-cb3b-4641-9aff-10108fcfd47b"
      },
      "source": [
        "#Show lists the files and content of directories data!\n",
        "!ls data "
      ],
      "execution_count": null,
      "outputs": [
        {
          "output_type": "stream",
          "text": [
            "basket_players_stats.csv  netflixtitles.csv  racoon.png\r\n",
            "company_sales.csv\t  prog_book.csv      README.md\r\n",
            "got.csv\t\t\t  racoon_BW.png      us_births.csv\r\n"
          ],
          "name": "stdout"
        }
      ]
    },
    {
      "cell_type": "code",
      "metadata": {
        "id": "2ExOb4H1zTw7",
        "outputId": "f4598ffc-9655-4814-f22b-d3e7033fbf59"
      },
      "source": [
        "# Import library numpy and pandas\n",
        "import numpy as np\n",
        "import pandas as pd\n",
        "\n",
        "# Read dataset using pandas\n",
        "data = pd.read_csv(\"data/prog_book.csv\") \n",
        "data.head() #show first five of data "
      ],
      "execution_count": null,
      "outputs": [
        {
          "output_type": "execute_result",
          "data": {
            "text/html": [
              "<div>\n",
              "<style scoped>\n",
              "    .dataframe tbody tr th:only-of-type {\n",
              "        vertical-align: middle;\n",
              "    }\n",
              "\n",
              "    .dataframe tbody tr th {\n",
              "        vertical-align: top;\n",
              "    }\n",
              "\n",
              "    .dataframe thead th {\n",
              "        text-align: right;\n",
              "    }\n",
              "</style>\n",
              "<table border=\"1\" class=\"dataframe\">\n",
              "  <thead>\n",
              "    <tr style=\"text-align: right;\">\n",
              "      <th></th>\n",
              "      <th>Rating</th>\n",
              "      <th>Reviews</th>\n",
              "      <th>Book_title</th>\n",
              "      <th>Description</th>\n",
              "      <th>Number_Of_Pages</th>\n",
              "      <th>Type</th>\n",
              "      <th>Price</th>\n",
              "    </tr>\n",
              "  </thead>\n",
              "  <tbody>\n",
              "    <tr>\n",
              "      <th>0</th>\n",
              "      <td>4.17</td>\n",
              "      <td>3,829</td>\n",
              "      <td>The Elements of Style</td>\n",
              "      <td>This style manual offers practical advice on i...</td>\n",
              "      <td>105</td>\n",
              "      <td>Hardcover</td>\n",
              "      <td>9.323529</td>\n",
              "    </tr>\n",
              "    <tr>\n",
              "      <th>1</th>\n",
              "      <td>4.01</td>\n",
              "      <td>1,406</td>\n",
              "      <td>The Information: A History, a Theory, a Flood</td>\n",
              "      <td>James Gleick, the author of the best sellers C...</td>\n",
              "      <td>527</td>\n",
              "      <td>Hardcover</td>\n",
              "      <td>11.000000</td>\n",
              "    </tr>\n",
              "    <tr>\n",
              "      <th>2</th>\n",
              "      <td>3.33</td>\n",
              "      <td>0</td>\n",
              "      <td>Responsive Web Design Overview For Beginners</td>\n",
              "      <td>In Responsive Web Design Overview For Beginner...</td>\n",
              "      <td>50</td>\n",
              "      <td>Kindle Edition</td>\n",
              "      <td>11.267647</td>\n",
              "    </tr>\n",
              "    <tr>\n",
              "      <th>3</th>\n",
              "      <td>3.97</td>\n",
              "      <td>1,658</td>\n",
              "      <td>Ghost in the Wires: My Adventures as the World...</td>\n",
              "      <td>If they were a hall of fame or shame for compu...</td>\n",
              "      <td>393</td>\n",
              "      <td>Hardcover</td>\n",
              "      <td>12.873529</td>\n",
              "    </tr>\n",
              "    <tr>\n",
              "      <th>4</th>\n",
              "      <td>4.06</td>\n",
              "      <td>1,325</td>\n",
              "      <td>How Google Works</td>\n",
              "      <td>Both Eric Schmidt and Jonathan Rosenberg came ...</td>\n",
              "      <td>305</td>\n",
              "      <td>Kindle Edition</td>\n",
              "      <td>13.164706</td>\n",
              "    </tr>\n",
              "  </tbody>\n",
              "</table>\n",
              "</div>"
            ],
            "text/plain": [
              "   Rating Reviews                                         Book_title  \\\n",
              "0    4.17   3,829                              The Elements of Style   \n",
              "1    4.01   1,406      The Information: A History, a Theory, a Flood   \n",
              "2    3.33       0       Responsive Web Design Overview For Beginners   \n",
              "3    3.97   1,658  Ghost in the Wires: My Adventures as the World...   \n",
              "4    4.06   1,325                                   How Google Works   \n",
              "\n",
              "                                         Description  Number_Of_Pages  \\\n",
              "0  This style manual offers practical advice on i...              105   \n",
              "1  James Gleick, the author of the best sellers C...              527   \n",
              "2  In Responsive Web Design Overview For Beginner...               50   \n",
              "3  If they were a hall of fame or shame for compu...              393   \n",
              "4  Both Eric Schmidt and Jonathan Rosenberg came ...              305   \n",
              "\n",
              "             Type      Price  \n",
              "0       Hardcover   9.323529  \n",
              "1       Hardcover  11.000000  \n",
              "2  Kindle Edition  11.267647  \n",
              "3       Hardcover  12.873529  \n",
              "4  Kindle Edition  13.164706  "
            ]
          },
          "metadata": {
            "tags": []
          },
          "execution_count": 21
        }
      ]
    },
    {
      "cell_type": "code",
      "metadata": {
        "scrolled": true,
        "id": "tIyaLJb8zTxF"
      },
      "source": [
        "#Library of visualization\n",
        "import matplotlib.pyplot as plt "
      ],
      "execution_count": null,
      "outputs": []
    },
    {
      "cell_type": "code",
      "metadata": {
        "id": "9PgRVBxjzTxG",
        "outputId": "e5e43f38-241f-432b-f6b1-815d2be4e649"
      },
      "source": [
        "# Parte A \n",
        "plt.hist(data[\"Rating\"], bins= 20, color=\"green\")"
      ],
      "execution_count": null,
      "outputs": [
        {
          "output_type": "execute_result",
          "data": {
            "text/plain": [
              "(array([ 3.,  0.,  2.,  4.,  2.,  5.,  7., 16., 24., 29., 41., 45., 42.,\n",
              "        26., 13.,  5.,  4.,  2.,  0.,  1.]),\n",
              " array([3. , 3.1, 3.2, 3.3, 3.4, 3.5, 3.6, 3.7, 3.8, 3.9, 4. , 4.1, 4.2,\n",
              "        4.3, 4.4, 4.5, 4.6, 4.7, 4.8, 4.9, 5. ]),\n",
              " <a list of 20 Patch objects>)"
            ]
          },
          "metadata": {
            "tags": []
          },
          "execution_count": 23
        },
        {
          "output_type": "display_data",
          "data": {
            "image/png": "[encoded data removed]",
            "text/plain": [
              "<Figure size 432x288 with 1 Axes>"
            ]
          },
          "metadata": {
            "tags": [],
            "needs_background": "light"
          }
        }
      ]
    },
    {
      "cell_type": "code",
      "metadata": {
        "id": "oPUWgui_zTxH",
        "outputId": "aca1f958-ccb9-4103-ba19-a3517dfa3093"
      },
      "source": [
        "#Parte B\n",
        "\n",
        "#Create a diccionary with book type and color\n",
        "colors = {\"Hardcover\": \"red\", \"Kindle Edition\":\"green\", \"Paperback\":\"blue\", \"ebook\":\"purple\",\\\n",
        "         \"Unknown Binding\":\"black\", \"Boxed Set - Hardcover\":\"yellow\"}\n",
        "\n",
        "#Configuration of plots\n",
        "fig, ax = plt.subplots(figsize=(16, 8))\n",
        "\n",
        "#Loops for get color and legend.\n",
        "for book_type in data['Type'].unique():\n",
        "    data_subset = data[data['Type'] == book_type].copy()\n",
        "    #Create scatterplot\n",
        "    ax.scatter(data_subset['Type'], data_subset['Price'], color=colors[book_type], label=book_type)\n",
        "\n",
        "ax.legend(loc = \"upper center\")\n",
        "plt.show()\n"
      ],
      "execution_count": null,
      "outputs": [
        {
          "output_type": "display_data",
          "data": {
            "image/png": "[encoded data removed]",
            "text/plain": [
              "<Figure size 1152x576 with 1 Axes>"
            ]
          },
          "metadata": {
            "tags": [],
            "needs_background": "light"
          }
        }
      ]
    },
    {
      "cell_type": "code",
      "metadata": {
        "id": "Hk3i4yDXzTxH",
        "outputId": "a1f17994-939c-48b0-aec2-43e8451188e9"
      },
      "source": [
        "# Parte C\n",
        "\n",
        "#Get percent of type each book\n",
        "percent = data[\"Type\"].value_counts(normalize=True)*100\n",
        "\n",
        "#Create labels of data\n",
        "labels = list(data[\"Type\"].unique())\n",
        "explode = (1, 1, 1, 1, 1) \n",
        "\n",
        "#Configuration of figure\n",
        "fig1, ax1 = plt.subplots(figsize=(16, 8))\n",
        "\n",
        "#Configuration of pie chart\n",
        "ax1.pie(percent, labels=labels, autopct='%1.1f%%',\n",
        "        startangle=-0)\n",
        "ax1.axis('equal')\n",
        "\n",
        "#Configuration of legend\n",
        "ax1.legend(loc = \"upper left\")\n",
        "\n",
        "#Show the pie chart\n",
        "plt.show()"
      ],
      "execution_count": null,
      "outputs": [
        {
          "output_type": "display_data",
          "data": {
            "image/png": "[encoded data removed]",
            "text/plain": [
              "<Figure size 1152x576 with 1 Axes>"
            ]
          },
          "metadata": {
            "tags": []
          }
        }
      ]
    },
    {
      "cell_type": "markdown",
      "metadata": {
        "id": "dxaViP8CzTxI"
      },
      "source": [
        "<br>\n",
        "<span style=\"color: #1d17f4; padding: 3px; font-size: x-large\">pandas - Ejercicios</span>"
      ]
    },
    {
      "cell_type": "markdown",
      "metadata": {
        "id": "zWA-A101zTxI"
      },
      "source": [
        "### Ejercicio 1\n",
        "\n",
        "Carga los datos del archivo `basket_players_stats.csv`, que puedes encontrar en la carpeta `data`, en un _dataframe_. Este conjunto de datos recoge información sobre jugadores de [baloncesto](https://www.kaggle.com/jacobbaruch/basketball-players-stats-per-season-49-leagues) entre 1999-2020.\n",
        "\n",
        "Muestra las variables del dataset y el número de entradas (filas). Hay información duplicada?\n",
        "\n",
        "**(0.5 puntos)** <span style=\"font-family: Courier New; background-color: #82b74b; color: #000000; padding: 3px; \">NM</span>"
      ]
    },
    {
      "cell_type": "code",
      "metadata": {
        "id": "JLYCpOpFzTxJ"
      },
      "source": [
        "# Import library pandas \n",
        "import pandas as pd "
      ],
      "execution_count": null,
      "outputs": []
    },
    {
      "cell_type": "code",
      "metadata": {
        "id": "wlEqmqE8zTxM",
        "outputId": "1cbdf921-160e-4d42-f591-86c942aef279"
      },
      "source": [
        "# Read data of csv\n",
        "basket_players = pd.read_csv(\"data/basket_players_stats.csv\")\n",
        "\n",
        "# Show the variables which are the columns and total values which are rows.\n",
        "basket_players.info() "
      ],
      "execution_count": null,
      "outputs": [
        {
          "output_type": "stream",
          "text": [
            "<class 'pandas.core.frame.DataFrame'>\n",
            "RangeIndex: 53798 entries, 0 to 53797\n",
            "Data columns (total 31 columns):\n",
            " #   Column       Non-Null Count  Dtype  \n",
            "---  ------       --------------  -----  \n",
            " 0   League       53798 non-null  object \n",
            " 1   Season       53798 non-null  object \n",
            " 2   Stage        53798 non-null  object \n",
            " 3   Player       53798 non-null  object \n",
            " 4   Team         53787 non-null  object \n",
            " 5   GP           53798 non-null  int64  \n",
            " 6   MIN          53798 non-null  float64\n",
            " 7   FGM          53798 non-null  int64  \n",
            " 8   FGA          53798 non-null  int64  \n",
            " 9   3PM          53798 non-null  int64  \n",
            " 10  3PA          53798 non-null  int64  \n",
            " 11  FTM          53798 non-null  int64  \n",
            " 12  FTA          53798 non-null  int64  \n",
            " 13  TOV          53798 non-null  int64  \n",
            " 14  PF           53798 non-null  int64  \n",
            " 15  ORB          53798 non-null  int64  \n",
            " 16  DRB          53798 non-null  int64  \n",
            " 17  REB          53798 non-null  int64  \n",
            " 18  AST          53798 non-null  int64  \n",
            " 19  STL          53798 non-null  int64  \n",
            " 20  BLK          53798 non-null  int64  \n",
            " 21  PTS          53798 non-null  int64  \n",
            " 22  birth_year   53479 non-null  float64\n",
            " 23  birth_month  53479 non-null  object \n",
            " 24  birth_date   53479 non-null  object \n",
            " 25  height       53724 non-null  object \n",
            " 26  height_cm    53724 non-null  float64\n",
            " 27  weight       49232 non-null  float64\n",
            " 28  weight_kg    49232 non-null  float64\n",
            " 29  nationality  53791 non-null  object \n",
            " 30  high_school  23551 non-null  object \n",
            "dtypes: float64(5), int64(16), object(10)\n",
            "memory usage: 12.7+ MB\n"
          ],
          "name": "stdout"
        }
      ]
    },
    {
      "cell_type": "code",
      "metadata": {
        "id": "p_k07ykQzTxN",
        "outputId": "255f04cf-f6c0-44a0-cf96-54bb70f39f29"
      },
      "source": [
        "# The dataset contains 53798 rows and 31 columns\n",
        "basket_players.shape"
      ],
      "execution_count": null,
      "outputs": [
        {
          "output_type": "execute_result",
          "data": {
            "text/plain": [
              "(53798, 31)"
            ]
          },
          "metadata": {
            "tags": []
          },
          "execution_count": 28
        }
      ]
    },
    {
      "cell_type": "code",
      "metadata": {
        "id": "fNEAokvxzTxO",
        "outputId": "37024285-8297-4698-c941-2a6740341d53"
      },
      "source": [
        "# Show duplicates\n",
        "basket_players[basket_players.duplicated()] "
      ],
      "execution_count": null,
      "outputs": [
        {
          "output_type": "execute_result",
          "data": {
            "text/html": [
              "<div>\n",
              "<style scoped>\n",
              "    .dataframe tbody tr th:only-of-type {\n",
              "        vertical-align: middle;\n",
              "    }\n",
              "\n",
              "    .dataframe tbody tr th {\n",
              "        vertical-align: top;\n",
              "    }\n",
              "\n",
              "    .dataframe thead th {\n",
              "        text-align: right;\n",
              "    }\n",
              "</style>\n",
              "<table border=\"1\" class=\"dataframe\">\n",
              "  <thead>\n",
              "    <tr style=\"text-align: right;\">\n",
              "      <th></th>\n",
              "      <th>League</th>\n",
              "      <th>Season</th>\n",
              "      <th>Stage</th>\n",
              "      <th>Player</th>\n",
              "      <th>Team</th>\n",
              "      <th>GP</th>\n",
              "      <th>MIN</th>\n",
              "      <th>FGM</th>\n",
              "      <th>FGA</th>\n",
              "      <th>3PM</th>\n",
              "      <th>...</th>\n",
              "      <th>PTS</th>\n",
              "      <th>birth_year</th>\n",
              "      <th>birth_month</th>\n",
              "      <th>birth_date</th>\n",
              "      <th>height</th>\n",
              "      <th>height_cm</th>\n",
              "      <th>weight</th>\n",
              "      <th>weight_kg</th>\n",
              "      <th>nationality</th>\n",
              "      <th>high_school</th>\n",
              "    </tr>\n",
              "  </thead>\n",
              "  <tbody>\n",
              "  </tbody>\n",
              "</table>\n",
              "<p>0 rows × 31 columns</p>\n",
              "</div>"
            ],
            "text/plain": [
              "Empty DataFrame\n",
              "Columns: [League, Season, Stage, Player, Team, GP, MIN, FGM, FGA, 3PM, 3PA, FTM, FTA, TOV, PF, ORB, DRB, REB, AST, STL, BLK, PTS, birth_year, birth_month, birth_date, height, height_cm, weight, weight_kg, nationality, high_school]\n",
              "Index: []\n",
              "\n",
              "[0 rows x 31 columns]"
            ]
          },
          "metadata": {
            "tags": []
          },
          "execution_count": 29
        }
      ]
    },
    {
      "cell_type": "markdown",
      "metadata": {
        "id": "HOL6UqyOzTxP"
      },
      "source": [
        "### Ejercicio 2\n",
        "\n",
        "\n",
        "La NBA (National Basketball Association) es la liga más famosa de baloncesto, pero en todo el mundo se organizan muchas otras. Contesta y muestra el resultado de las siguientes preguntas:\n",
        "\n",
        "- Hay información de ligas diferentes a la NBA? En el caso de ser así, de cuántas ligas en total disponemos de información (incluyendo la NBA)? **(0.5 puntos)**\n",
        "\n",
        "- Agrupa los datos cargados por liga (*League*), y muestra el número total de filas por cada una. De qué liga tenemos más información? Muestra los 10 primeros resultados ordenados de mayor a menor.**(0.5 puntos)**\n",
        "\n",
        "**Nota:** En el Notebook de teoría hemos visto cómo calcular la media de una agrupación de datos. Para resolver este ejercicio necesitaréis investigar cómo contar (`count`) todos los valores de una columna en una agrupación. Os puede ser de utilidad la función [aggregate](https://pandas.pydata.org/pandas-docs/stable/reference/api/pandas.DataFrame.aggregate.html) de pandas, que nos permite aplicar diferentes funciones a una columna en un `groupby`.\n",
        "\n",
        "**(1 punto)** <span style=\"font-family: Courier New; background-color: #ffcc5c; color: #000000; padding: 3px; \">EG</span>"
      ]
    },
    {
      "cell_type": "code",
      "metadata": {
        "id": "hugvyj3azTxQ",
        "outputId": "e4e125f3-7538-48d9-8916-515af7db1412"
      },
      "source": [
        "#Show the values unique of league \n",
        "basket_players[\"League\"].unique() "
      ],
      "execution_count": null,
      "outputs": [
        {
          "output_type": "execute_result",
          "data": {
            "text/plain": [
              "array(['NBA', 'Euroleague', 'Israeli-BSL', 'Argentinian-Liga-A',\n",
              "       'Australian-NBL', 'Austrian-A-Bundesliga', 'Balkan-BIL',\n",
              "       'Belarusian-BPL', 'Belgium-Scooore-League', 'Bosnian-BiH-Liga',\n",
              "       'Brazilian-NBB', 'British-BBL', 'Bulgarian-NBL', 'Canadian-NBL',\n",
              "       'Chinese-CBA', 'Croatian-A-1-Liga', 'Czech-NBL',\n",
              "       'Danish-Basketligaen', 'Estonian-Latvian-Basketball-League',\n",
              "       'Eurocup', 'FIBA-Europe-Cup', 'Finnish-Korisliiga',\n",
              "       'French-Jeep-Elite', 'Georgian-Super-Liga', 'German-BBL',\n",
              "       'Greek-HEBA-A1', 'Hungarian-NBIA', 'Italian-Lega-Basket-Serie-A',\n",
              "       'Japanese-BLeague', 'Kosovo-FBK', 'Lebanese-Division-A',\n",
              "       'Lithuanian-LKL', 'Luxembourg-Total-League',\n",
              "       'Macedonian-Superleague', 'Mexican-LNBP', 'Netherlands-DBL',\n",
              "       'New-Zealand-NBL', 'Norwegian-BLNO', 'Polish-TBL',\n",
              "       'Romanian-Divizia-A', 'Serbian-KLS', 'Slovakian-Extraliga',\n",
              "       'Slovenian-SKL', 'South-Korean-KBL', 'Spanish-ACB',\n",
              "       'Swedish-Basketligan', 'Swiss-LNA', 'Turkish-BSL',\n",
              "       'Ukrainian-Superleague', 'Balkan-BIBL'], dtype=object)"
            ]
          },
          "metadata": {
            "tags": []
          },
          "execution_count": 30
        }
      ]
    },
    {
      "cell_type": "code",
      "metadata": {
        "id": "7fAQTGngzTxR",
        "outputId": "f4cf243a-7182-4cd5-ae57-30bbf0dce469"
      },
      "source": [
        "#Count total league have in the dataset\n",
        "len(basket_players[\"League\"].unique()) "
      ],
      "execution_count": null,
      "outputs": [
        {
          "output_type": "execute_result",
          "data": {
            "text/plain": [
              "50"
            ]
          },
          "metadata": {
            "tags": []
          },
          "execution_count": 31
        }
      ]
    },
    {
      "cell_type": "code",
      "metadata": {
        "id": "DZaaxM40zTxR",
        "outputId": "ab069832-080f-423f-eb00-5e3a20da44bf"
      },
      "source": [
        "#Group by League\n",
        "group_league = basket_players.groupby([\"League\"]) \n",
        "\n",
        "#Loops to know total row per League\n",
        "for name, group in group_league: \n",
        "    print(name, len(group)) #Show each league and its total row"
      ],
      "execution_count": null,
      "outputs": [
        {
          "output_type": "stream",
          "text": [
            "Argentinian-Liga-A 1188\n",
            "Australian-NBL 2022\n",
            "Austrian-A-Bundesliga 624\n",
            "Balkan-BIBL 447\n",
            "Balkan-BIL 21\n",
            "Belarusian-BPL 594\n",
            "Belgium-Scooore-League 650\n",
            "Bosnian-BiH-Liga 703\n",
            "Brazilian-NBB 1011\n",
            "British-BBL 668\n",
            "Bulgarian-NBL 553\n",
            "Canadian-NBL 547\n",
            "Chinese-CBA 1426\n",
            "Croatian-A-1-Liga 819\n",
            "Czech-NBL 802\n",
            "Danish-Basketligaen 536\n",
            "Estonian-Latvian-Basketball-League 271\n",
            "Eurocup 4136\n",
            "Euroleague 3322\n",
            "FIBA-Europe-Cup 1388\n",
            "Finnish-Korisliiga 691\n",
            "French-Jeep-Elite 1852\n",
            "Georgian-Super-Liga 495\n",
            "German-BBL 2022\n",
            "Greek-HEBA-A1 870\n",
            "Hungarian-NBIA 818\n",
            "Israeli-BSL 751\n",
            "Italian-Lega-Basket-Serie-A 1865\n",
            "Japanese-BLeague 617\n",
            "Kosovo-FBK 218\n",
            "Lebanese-Division-A 424\n",
            "Lithuanian-LKL 684\n",
            "Luxembourg-Total-League 642\n",
            "Macedonian-Superleague 534\n",
            "Mexican-LNBP 765\n",
            "NBA 7490\n",
            "Netherlands-DBL 571\n",
            "New-Zealand-NBL 481\n",
            "Norwegian-BLNO 555\n",
            "Polish-TBL 978\n",
            "Romanian-Divizia-A 760\n",
            "Serbian-KLS 1022\n",
            "Slovakian-Extraliga 537\n",
            "Slovenian-SKL 728\n",
            "South-Korean-KBL 623\n",
            "Spanish-ACB 2328\n",
            "Swedish-Basketligan 636\n",
            "Swiss-LNA 575\n",
            "Turkish-BSL 977\n",
            "Ukrainian-Superleague 561\n"
          ],
          "name": "stdout"
        }
      ]
    },
    {
      "cell_type": "code",
      "metadata": {
        "id": "ytL_UpjwzTxR",
        "outputId": "9e1e3af0-1f51-40df-c474-2ed5cf0ddd99"
      },
      "source": [
        "# Top 10 of information League\n",
        "basket_players.groupby(\"League\")[\"League\"].agg(\"count\").sort_values(ascending=False).head(10)"
      ],
      "execution_count": null,
      "outputs": [
        {
          "output_type": "execute_result",
          "data": {
            "text/plain": [
              "League\n",
              "NBA                            7490\n",
              "Eurocup                        4136\n",
              "Euroleague                     3322\n",
              "Spanish-ACB                    2328\n",
              "Australian-NBL                 2022\n",
              "German-BBL                     2022\n",
              "Italian-Lega-Basket-Serie-A    1865\n",
              "French-Jeep-Elite              1852\n",
              "Chinese-CBA                    1426\n",
              "FIBA-Europe-Cup                1388\n",
              "Name: League, dtype: int64"
            ]
          },
          "metadata": {
            "tags": []
          },
          "execution_count": 33
        }
      ]
    },
    {
      "cell_type": "markdown",
      "metadata": {
        "id": "v4S5UkBwzTxS"
      },
      "source": [
        "### Ejercicio 3\n",
        " \n",
        "A continuación nos centraremos en la temporada 2018-2019 de la liga de la NBA.\n",
        "\n",
        "- Crea un nuevo dataset con sólo estos datos. **(0.5 puntos)**\n",
        "- ¿Qué jugador ha jugado más minutos (*MIN*) de la temporada regular (*Regular_Season*). Y de la temporada de *PlayOffs*? **(0.5 puntos)**\n",
        " \n",
        "**(1 punto)** <span style=\"font-family: Courier New; background-color: #82b74b; color: #000000; padding: 3px; \">NM</span>"
      ]
    },
    {
      "cell_type": "code",
      "metadata": {
        "id": "4nFx03LIzTxS"
      },
      "source": [
        "#Create a new dataset with NBA data\n",
        "NBA = basket_players.loc[(basket_players[\"League\"] == \"NBA\") & (basket_players[\"Season\"] == \"2018 - 2019\")]"
      ],
      "execution_count": null,
      "outputs": []
    },
    {
      "cell_type": "code",
      "metadata": {
        "id": "AKqYy5kJzTxS",
        "outputId": "fa7d1027-9c05-421f-b35c-6b2efba89513"
      },
      "source": [
        "# The player had most minutes in Regular Season is Bradley Beal\n",
        "Regular_Season = NBA[NBA[\"Stage\"]== \"Regular_Season\"]\n",
        "Regular_Season.groupby([\"Player\"]).agg({\"MIN\":\"max\"}).sort_values(\"MIN\", ascending=False).head(1)"
      ],
      "execution_count": null,
      "outputs": [
        {
          "output_type": "execute_result",
          "data": {
            "text/html": [
              "<div>\n",
              "<style scoped>\n",
              "    .dataframe tbody tr th:only-of-type {\n",
              "        vertical-align: middle;\n",
              "    }\n",
              "\n",
              "    .dataframe tbody tr th {\n",
              "        vertical-align: top;\n",
              "    }\n",
              "\n",
              "    .dataframe thead th {\n",
              "        text-align: right;\n",
              "    }\n",
              "</style>\n",
              "<table border=\"1\" class=\"dataframe\">\n",
              "  <thead>\n",
              "    <tr style=\"text-align: right;\">\n",
              "      <th></th>\n",
              "      <th>MIN</th>\n",
              "    </tr>\n",
              "    <tr>\n",
              "      <th>Player</th>\n",
              "      <th></th>\n",
              "    </tr>\n",
              "  </thead>\n",
              "  <tbody>\n",
              "    <tr>\n",
              "      <th>Bradley Beal</th>\n",
              "      <td>3027.8</td>\n",
              "    </tr>\n",
              "  </tbody>\n",
              "</table>\n",
              "</div>"
            ],
            "text/plain": [
              "                 MIN\n",
              "Player              \n",
              "Bradley Beal  3027.8"
            ]
          },
          "metadata": {
            "tags": []
          },
          "execution_count": 35
        }
      ]
    },
    {
      "cell_type": "code",
      "metadata": {
        "id": "UrQIgCzBzTxS",
        "outputId": "0be3b554-aae5-411b-ce38-0d709ce4c761"
      },
      "source": [
        "# The player had most minutes in Playoffs is Kawhi Leonard\n",
        "Playoffs = NBA[NBA[\"Stage\"]== \"Playoffs\"]\n",
        "Playoffs.groupby([\"Player\"]).agg({\"MIN\":\"max\"}).sort_values(\"MIN\", ascending=False).head(1)"
      ],
      "execution_count": null,
      "outputs": [
        {
          "output_type": "execute_result",
          "data": {
            "text/html": [
              "<div>\n",
              "<style scoped>\n",
              "    .dataframe tbody tr th:only-of-type {\n",
              "        vertical-align: middle;\n",
              "    }\n",
              "\n",
              "    .dataframe tbody tr th {\n",
              "        vertical-align: top;\n",
              "    }\n",
              "\n",
              "    .dataframe thead th {\n",
              "        text-align: right;\n",
              "    }\n",
              "</style>\n",
              "<table border=\"1\" class=\"dataframe\">\n",
              "  <thead>\n",
              "    <tr style=\"text-align: right;\">\n",
              "      <th></th>\n",
              "      <th>MIN</th>\n",
              "    </tr>\n",
              "    <tr>\n",
              "      <th>Player</th>\n",
              "      <th></th>\n",
              "    </tr>\n",
              "  </thead>\n",
              "  <tbody>\n",
              "    <tr>\n",
              "      <th>Kawhi Leonard</th>\n",
              "      <td>939.5</td>\n",
              "    </tr>\n",
              "  </tbody>\n",
              "</table>\n",
              "</div>"
            ],
            "text/plain": [
              "                 MIN\n",
              "Player              \n",
              "Kawhi Leonard  939.5"
            ]
          },
          "metadata": {
            "tags": []
          },
          "execution_count": 36
        }
      ]
    },
    {
      "cell_type": "markdown",
      "metadata": {
        "id": "uWGGJkPvzTxS"
      },
      "source": [
        "### Ejercicio 4\n",
        "\n",
        "Los triples (tiros de 3 puntos) son un elemento clave en un partido de baloncesto. Los equipos que tienen buenos tiradores tienen una gran ventaja respecto a los equipos que no.\n",
        "\n",
        "- Cuál es el promedio de triples (*3PM*) de los jugadores de la temporada Regular 2018-2019? **(0.5 puntos)**\n",
        "- Qué equipos tienen la media de triples por encima del valor calculado en el apartado anterior? **(0.5 puntos)**\n",
        "\n",
        "**Nota**: Además del contenido de los notebooks de teoría, podéis utilizar lo que habéis aprendido haciendo el ejercicio 3.\n",
        "\n",
        "**(1 punto)** <span style=\"font-family: Courier New; background-color: #82b74b; color: #000000; padding: 3px; \">NM</span>"
      ]
    },
    {
      "cell_type": "code",
      "metadata": {
        "id": "B4ijnuikzTxS",
        "outputId": "dac78473-f9de-48f0-a43e-af19030f7180"
      },
      "source": [
        "# Mean of Triple Regular Season Stage\n",
        "mean_triple = Regular_Season[\"3PM\"].mean()\n",
        "mean_triple"
      ],
      "execution_count": null,
      "outputs": [
        {
          "output_type": "execute_result",
          "data": {
            "text/plain": [
              "81.16095890410959"
            ]
          },
          "metadata": {
            "tags": []
          },
          "execution_count": 37
        }
      ]
    },
    {
      "cell_type": "code",
      "metadata": {
        "scrolled": true,
        "id": "EtmRc1xJzTxU"
      },
      "source": [
        "# Create a variable with teams have the above triple average\n",
        "team_meantriple = Regular_Season.groupby([\"Team\"])\\\n",
        "                                                .agg({\"3PM\":\"mean\"})\\\n",
        "                                                .sort_values(\"3PM\",ascending=False)"
      ],
      "execution_count": null,
      "outputs": []
    },
    {
      "cell_type": "code",
      "metadata": {
        "id": "l5l8W40XzTxU",
        "outputId": "ec29201a-ebbe-4776-8207-897ab8c65936"
      },
      "source": [
        "# The Teams have the above triple average\n",
        "average_team = team_meantriple[team_meantriple[\"3PM\"] > mean_triple ]\n",
        "average_team"
      ],
      "execution_count": null,
      "outputs": [
        {
          "output_type": "execute_result",
          "data": {
            "text/html": [
              "<div>\n",
              "<style scoped>\n",
              "    .dataframe tbody tr th:only-of-type {\n",
              "        vertical-align: middle;\n",
              "    }\n",
              "\n",
              "    .dataframe tbody tr th {\n",
              "        vertical-align: top;\n",
              "    }\n",
              "\n",
              "    .dataframe thead th {\n",
              "        text-align: right;\n",
              "    }\n",
              "</style>\n",
              "<table border=\"1\" class=\"dataframe\">\n",
              "  <thead>\n",
              "    <tr style=\"text-align: right;\">\n",
              "      <th></th>\n",
              "      <th>3PM</th>\n",
              "    </tr>\n",
              "    <tr>\n",
              "      <th>Team</th>\n",
              "      <th></th>\n",
              "    </tr>\n",
              "  </thead>\n",
              "  <tbody>\n",
              "    <tr>\n",
              "      <th>HOU</th>\n",
              "      <td>138.111111</td>\n",
              "    </tr>\n",
              "    <tr>\n",
              "      <th>BOS</th>\n",
              "      <td>105.777778</td>\n",
              "    </tr>\n",
              "    <tr>\n",
              "      <th>TOR</th>\n",
              "      <td>99.600000</td>\n",
              "    </tr>\n",
              "    <tr>\n",
              "      <th>UTA</th>\n",
              "      <td>99.444444</td>\n",
              "    </tr>\n",
              "    <tr>\n",
              "      <th>ORL</th>\n",
              "      <td>98.000000</td>\n",
              "    </tr>\n",
              "    <tr>\n",
              "      <th>ATL</th>\n",
              "      <td>96.625000</td>\n",
              "    </tr>\n",
              "    <tr>\n",
              "      <th>WAS</th>\n",
              "      <td>96.285714</td>\n",
              "    </tr>\n",
              "    <tr>\n",
              "      <th>SAC</th>\n",
              "      <td>92.100000</td>\n",
              "    </tr>\n",
              "    <tr>\n",
              "      <th>OKC</th>\n",
              "      <td>90.200000</td>\n",
              "    </tr>\n",
              "    <tr>\n",
              "      <th>BRK</th>\n",
              "      <td>85.888889</td>\n",
              "    </tr>\n",
              "    <tr>\n",
              "      <th>GSW</th>\n",
              "      <td>85.000000</td>\n",
              "    </tr>\n",
              "    <tr>\n",
              "      <th>MIL</th>\n",
              "      <td>83.333333</td>\n",
              "    </tr>\n",
              "    <tr>\n",
              "      <th>DAL</th>\n",
              "      <td>83.100000</td>\n",
              "    </tr>\n",
              "    <tr>\n",
              "      <th>CHA</th>\n",
              "      <td>81.909091</td>\n",
              "    </tr>\n",
              "    <tr>\n",
              "      <th>LAL</th>\n",
              "      <td>81.727273</td>\n",
              "    </tr>\n",
              "  </tbody>\n",
              "</table>\n",
              "</div>"
            ],
            "text/plain": [
              "             3PM\n",
              "Team            \n",
              "HOU   138.111111\n",
              "BOS   105.777778\n",
              "TOR    99.600000\n",
              "UTA    99.444444\n",
              "ORL    98.000000\n",
              "ATL    96.625000\n",
              "WAS    96.285714\n",
              "SAC    92.100000\n",
              "OKC    90.200000\n",
              "BRK    85.888889\n",
              "GSW    85.000000\n",
              "MIL    83.333333\n",
              "DAL    83.100000\n",
              "CHA    81.909091\n",
              "LAL    81.727273"
            ]
          },
          "metadata": {
            "tags": []
          },
          "execution_count": 39
        }
      ]
    },
    {
      "cell_type": "markdown",
      "metadata": {
        "id": "jDZEn1nSzTxU"
      },
      "source": [
        "### Ejercicio 5\n",
        "\n",
        "Considere el dataset de la temporada 2018-2019 de la liga de la NBA regular (no PlayOffs).\n",
        "\n",
        "- Crea una nueva columna al dataset que nos indicará por cada fila si el jugador es de un equipo que ha participado en los PlayOffs (0 si no ha participado, 1 si ha participado). **(0.5 puntos)**\n",
        "- Muestra los histogramas de las características `height_cm` y` weight_kg` separados en función de la nueva columna de PlayOffs. Los jugadores de la NBA que han pasado a PlayOffs tienen características diferentes a los jugadores de los equipos que no han participado en los PlayOffs? **(0.25 puntos)**\n",
        "- Hay alguna relación entre la altura y el número de rebotes (*REB*) de un jugador? ¿Hay alguna diferencia entre los jugadores que llegan a PlayOffs y los que no? Responde gráficamente esta pregunta. **(0.25 puntos)**\n",
        "\n",
        "**(1 punto)** <span style=\"font-family: Courier New; background-color: #ffcc5c; color: #000000; padding: 3px; \">EG</span>"
      ]
    },
    {
      "cell_type": "code",
      "metadata": {
        "id": "JS84FcPAzTxU"
      },
      "source": [
        "# Create a new variable\n",
        "data_RS = Regular_Season.merge(Playoffs, how=\"left\", on = \"Player\", indicator = \"Playoffs\")\n",
        "data_RS = data_RS.replace({\"both\":1, \"left_only\": 0})"
      ],
      "execution_count": null,
      "outputs": []
    },
    {
      "cell_type": "code",
      "metadata": {
        "id": "AM6O0nK4zTxU",
        "outputId": "5a4d62b4-b2fe-47c9-b869-1c4226676a3a"
      },
      "source": [
        "# Create variable of filter \n",
        "playoffs_1 = data_RS[data_RS[\"Playoffs\"] == 1 ]\n",
        "\n",
        "# Configuration of figure\n",
        "fig = plt.figure(figsize=(16, 8))\n",
        "\n",
        "# Histogram of height of players\n",
        "plt.hist(playoffs_1[\"height_cm_x\"]) \n",
        "\n",
        "plt.title(\"The height of players with playin in Playoffs\")\n",
        "plt.show()"
      ],
      "execution_count": null,
      "outputs": [
        {
          "output_type": "display_data",
          "data": {
            "image/png": "[encoded data removed]",
            "text/plain": [
              "<Figure size 1152x576 with 1 Axes>"
            ]
          },
          "metadata": {
            "tags": [],
            "needs_background": "light"
          }
        }
      ]
    },
    {
      "cell_type": "code",
      "metadata": {
        "id": "iI2CcqNTzTxV",
        "outputId": "5d105567-36cd-4326-b664-1755efa00a9c"
      },
      "source": [
        "# Configuration of figure\n",
        "fig = plt.figure(figsize=(16, 8))\n",
        "\n",
        "# Histogram of weight of players\n",
        "plt.hist(playoffs_1[\"weight_kg_x\"])\n",
        "\n",
        "plt.title(\"The weight of players with playin in Playoffs\")\n",
        "plt.show()"
      ],
      "execution_count": null,
      "outputs": [
        {
          "output_type": "display_data",
          "data": {
            "image/png": "[encoded data removed]",
            "text/plain": [
              "<Figure size 1152x576 with 1 Axes>"
            ]
          },
          "metadata": {
            "tags": [],
            "needs_background": "light"
          }
        }
      ]
    },
    {
      "cell_type": "code",
      "metadata": {
        "scrolled": false,
        "id": "EhFYDNiYzTxV",
        "outputId": "f34c2134-2c4c-4665-8833-5ccf6bb0241d"
      },
      "source": [
        "# Configuration of figure\n",
        "fig = plt.figure(figsize=(10, 5))\n",
        "\n",
        "\n",
        "# Playoffs 1 scatterplot of height and REB\n",
        "plt.scatter(playoffs_1[\"height_cm_x\"], playoffs_1[\"REB_x\"])\n",
        "\n",
        "plt.title(\"Relation between player height of playin Playoffs and rebound balls\")\n",
        "plt.show()"
      ],
      "execution_count": null,
      "outputs": [
        {
          "output_type": "display_data",
          "data": {
            "image/png": "[encoded data removed]",
            "text/plain": [
              "<Figure size 720x360 with 1 Axes>"
            ]
          },
          "metadata": {
            "tags": [],
            "needs_background": "light"
          }
        }
      ]
    },
    {
      "cell_type": "code",
      "metadata": {
        "id": "X2K4_Y87zTxW",
        "outputId": "c28ce8a1-a53d-4a00-b267-91ce415bf90f"
      },
      "source": [
        "# Filter players don't play in Playoffs\n",
        "playoffs_0 = data_RS[data_RS[\"Playoffs\"] == 0 ]\n",
        "\n",
        "# Configuration of figure\n",
        "fig = plt.figure(figsize=(10, 5))\n",
        "\n",
        "# Playoffs 0 scatterplot of height and REB\n",
        "plt.scatter(playoffs_0[\"height_cm_x\"], playoffs_0[\"REB_x\"])\n",
        "\n",
        "plt.title(\"Relation between player hegiht not playin Playoffs and rebound balls\")\n",
        "plt.show()\n",
        "\n"
      ],
      "execution_count": null,
      "outputs": [
        {
          "output_type": "display_data",
          "data": {
            "image/png": "[encoded data removed]",
            "text/plain": [
              "<Figure size 720x360 with 1 Axes>"
            ]
          },
          "metadata": {
            "tags": [],
            "needs_background": "light"
          }
        }
      ]
    },
    {
      "cell_type": "markdown",
      "metadata": {
        "id": "uCY0q_UezTxW"
      },
      "source": [
        "<br>\n",
        "<span style=\"color: #1d17f4; padding: 3px; font-size: x-large\">SciPy - Ejercicio</span>"
      ]
    },
    {
      "cell_type": "markdown",
      "metadata": {
        "id": "Uvx5-sMLzTxX"
      },
      "source": [
        "### Ejercicio 1\n",
        "\n",
        "Python es un lenguaje de programación muy utilizado en el procesamiento de imágenes. En este ejercicio trabajaremos con una imagen de un mapache (*racoon*), en color y en blanco y negro.\n",
        "\n",
        "- Carga y muestra las imágenes `racoon.png` y `racoonBW.png` que se encuentran en la carpeta `data`. Qué tamaño tiene cada una? Razona la respuesta. **(0.25 puntos)**\n",
        "- Aplica un filtro gaussiano con tamaño de kernel 3 y 5 a la imagen en blanco y negro. ¿Qué diferencia ves? Y si aplicas un filtro de mediana? Razona la respuesta. **(0.25 puntos)**\n",
        "\n",
        "**Nota 1**: Explorad la opción *cmap* de la función `imshow ()` para ver la imagen en blanco y negro.\n",
        "\n",
        "**Nota 2**: En el notebook de teoría hemos visto el filtro gaussiano (*gaussian_filter*). En este ejercicio también debemos aplicar el [filtro de mediana](https://docs.scipy.org/doc/scipy/reference/generated/scipy.ndimage.median_filter.html) de la librería scipy.\n",
        "\n",
        "**(0.5 puntos)** <span style=\"font-family: Courier New; background-color: #ffcc5c; color: #000000; padding: 3px; \">EG</span>"
      ]
    },
    {
      "cell_type": "code",
      "metadata": {
        "id": "j41fMKNvzTxX"
      },
      "source": [
        "%matplotlib inline\n",
        "\n",
        "# Import libraries \n",
        "import numpy as np\n",
        "from scipy import ndimage\n",
        "import matplotlib.image as mpimg\n",
        "import matplotlib.pyplot as plt"
      ],
      "execution_count": null,
      "outputs": []
    },
    {
      "cell_type": "code",
      "metadata": {
        "id": "9Q9-XRlJzTxX"
      },
      "source": [
        "# Read real imagen \n",
        "im = mpimg.imread(\"data/racoon.png\")\n",
        "im2 = mpimg.imread(\"data/racoon_BW.png\")"
      ],
      "execution_count": null,
      "outputs": []
    },
    {
      "cell_type": "code",
      "metadata": {
        "id": "wq-Xvxv0zTxX",
        "outputId": "303d8597-8723-49be-ad94-77e590cc3eff"
      },
      "source": [
        "# Size of imagen 1\n",
        "im.size"
      ],
      "execution_count": null,
      "outputs": [
        {
          "output_type": "execute_result",
          "data": {
            "text/plain": [
              "2359296"
            ]
          },
          "metadata": {
            "tags": []
          },
          "execution_count": 47
        }
      ]
    },
    {
      "cell_type": "code",
      "metadata": {
        "id": "F0I7-nWVzTxX",
        "outputId": "57ae9610-14d7-46cc-afde-296ec03ae43d"
      },
      "source": [
        "# Size of imagen 2\n",
        "im2.size"
      ],
      "execution_count": null,
      "outputs": [
        {
          "output_type": "execute_result",
          "data": {
            "text/plain": [
              "786432"
            ]
          },
          "metadata": {
            "tags": []
          },
          "execution_count": 48
        }
      ]
    },
    {
      "cell_type": "code",
      "metadata": {
        "scrolled": true,
        "id": "hyp_iDfLzTxX",
        "outputId": "62bfe6f8-0f63-437f-c2f3-125e5a9507d4"
      },
      "source": [
        "# Apply gaussian filter with size between 3 and 5 Kernel \n",
        "\n",
        "im_g = ndimage.gaussian_filter(im2, (3, 5))\n",
        "\n",
        "# Normalize\n",
        "im_norm = (im_g - im_g.min()) / (float(im_g.max()) - im_g.min())\n",
        "im_norm[im_norm < 0.5] = 0\n",
        "im_norm[im_norm >= 0.5] = 1\n",
        "\n",
        "# Convert the resulting image to use scipy's tagging function.\n",
        "\n",
        "result = 255 - (im_norm * 255).astype(np.uint8)\n",
        "\n",
        "# Identificate the number of crystal and show \n",
        "\n",
        "plt.title(u\"Number of crystal: %d\" % ndimage.label(result)[1])\n",
        "\n",
        "img = plt.imshow(np.asarray(im_norm), interpolation='nearest', extent=[0,200,0,1], aspect=200)\n",
        "\n",
        "plt.show()"
      ],
      "execution_count": null,
      "outputs": [
        {
          "output_type": "display_data",
          "data": {
            "image/png": "[encoded data removed]",
            "text/plain": [
              "<Figure size 432x288 with 1 Axes>"
            ]
          },
          "metadata": {
            "tags": [],
            "needs_background": "light"
          }
        }
      ]
    },
    {
      "cell_type": "code",
      "metadata": {
        "id": "KAvIZIHPzTxX",
        "outputId": "d6be7d47-a891-4ead-a4e5-3d073105a572"
      },
      "source": [
        "img2 = plt.imshow(ndimage.median_filter(im2, size=20))\n",
        "plt.title(\"Applying median filter\")\n",
        "plt.show()"
      ],
      "execution_count": null,
      "outputs": [
        {
          "output_type": "display_data",
          "data": {
            "image/png": "[encoded data removed]",
            "text/plain": [
              "<Figure size 432x288 with 1 Axes>"
            ]
          },
          "metadata": {
            "tags": [],
            "needs_background": "light"
          }
        }
      ]
    },
    {
      "cell_type": "markdown",
      "metadata": {
        "id": "VNsewBLvzTxY"
      },
      "source": [
        "### Ejercicio Opcional\n",
        "\n",
        "En este ejercicio queremos comparar la liga regular de NBA y la ACB en la temporada 2018-2019. Genera y muestra un gráfico de barras con el número de jugadores de cada nacionalidad de ambas ligas. <span style=\"font-family: Courier New; background-color: #f2ae72; color: #000000; padding: 3px; \">EI</span> \n",
        "\n",
        "\n",
        "Consideraciones:\n",
        "\n",
        "- Hay casos de jugadores con doble nacionalidad. Para facilitar la visualización, considera sólo **la primera nacionalidad**.\n",
        "- Muestra los dos grupos (NBA regular y ACB) en gráficos separados.\n",
        "- Debes mostrar los datos de manera horizontal (barras horizontales).\n",
        "- El eje de las Y debe incluir las etiquetas de las nacionalidades.\n",
        "- Debes incluir un texto con el número de jugadores cada categoría del gráfico. El texto debería estar situado a la derecha de cada barra.\n",
        "\n",
        "**Nota 1**: Para considerar sólo una nacionalidad debéis hacer alguna modificación del texto. Consultad la siguiente página para más [información](https://www.w3schools.com/python/ref_string_split.asp) \n",
        "\n",
        "**Nota 2**: En el Notebook de teoría hemos visto cómo mostrar gráficos lineares simples con el matplotlib. Para este ejercicio explorad las funcionalidades que presenta la librería pandas para generar gráficos a partir de dataframes. También pueden ser de utilidad las funciones [text](https://matplotlib.org/3.1.1/api/_as_gen/matplotlib.pyplot.text.html) o [annotate](https://matplotlib.org/3.1.1/api/_as_gen/matplotlib.pyplot.annotate.html) para mostrar el número de nacionalidades."
      ]
    },
    {
      "cell_type": "code",
      "metadata": {
        "id": "RG6dghJgzTxZ"
      },
      "source": [
        "# Using dataset of NBA in 2018 - 2019\n",
        "NBA\n",
        "# Create dataset of ACB in 2018 - 2019\n",
        "ACB = basket_players.loc[(basket_players[\"League\"] == \"Spanish-ACB\") & (basket_players[\"Season\"] == \"2018 - 2019\")]"
      ],
      "execution_count": null,
      "outputs": []
    },
    {
      "cell_type": "code",
      "metadata": {
        "id": "XR4itpT3zTxZ"
      },
      "source": [
        "# Only get first nationality of players have two\n",
        "data_NBA = NBA[\"nationality\"].astype(str).str.split(\"/\").apply(lambda x: x[0])\n",
        "data_ACB = ACB[\"nationality\"].astype(str).str.split(\"/\").apply(lambda x: x[0])"
      ],
      "execution_count": null,
      "outputs": []
    },
    {
      "cell_type": "code",
      "metadata": {
        "id": "HmVeJ0W2zTxZ"
      },
      "source": [
        "# Clean data of the same format in NBA\n",
        "data_NBA = list(map(lambda x: str(x).strip(), data_NBA))\n",
        "\n",
        "# Create diccionary of nationality and total each one\n",
        "my_dict = {i:data_NBA.count(i) for i in data_NBA}\n",
        "\n",
        "#Save the keys and values in variables\n",
        "keys_NBA = list(my_dict.keys())\n",
        "values_NBA = list(my_dict.values()) "
      ],
      "execution_count": null,
      "outputs": []
    },
    {
      "cell_type": "code",
      "metadata": {
        "id": "Vyxm5hu7zTxa",
        "outputId": "c718d517-9ef5-4b9e-d02f-e03148ed9a1c"
      },
      "source": [
        "# Configuration of figure\n",
        "fig = plt.figure(figsize=(10, 10))\n",
        "\n",
        "#Plot barth with data\n",
        "plt.barh(keys_NBA, values_NBA)\n",
        "\n",
        "#Make a loops to get the values of each one.\n",
        "for index, value in enumerate(values_NBA):\n",
        "\n",
        "#Using text to put de values and ma to indicate right of barh\n",
        "    plt.text(value, index, str(value), ma= \"right\")\n",
        "\n",
        "\n",
        "plt.title(\"Nationality of NBA 2018-2019\")\n",
        "plt.show()"
      ],
      "execution_count": null,
      "outputs": [
        {
          "output_type": "display_data",
          "data": {
            "image/png": "[encoded data removed]",
            "text/plain": [
              "<Figure size 720x720 with 1 Axes>"
            ]
          },
          "metadata": {
            "tags": [],
            "needs_background": "light"
          }
        }
      ]
    },
    {
      "cell_type": "code",
      "metadata": {
        "id": "4ATDV1XuzTxb"
      },
      "source": [
        "# Clean data of the same format in ACB\n",
        "data_ACB = list(map(lambda x: str(x).strip(), data_ACB))\n",
        "\n",
        "# Create diccionary of nationality and total each one\n",
        "my_dict = {i:data_ACB.count(i) for i in data_ACB}\n",
        "\n",
        "#Save the keys and values in variables\n",
        "keys_ACB = list(my_dict.keys())\n",
        "values_ACB = list(my_dict.values()) "
      ],
      "execution_count": null,
      "outputs": []
    },
    {
      "cell_type": "code",
      "metadata": {
        "id": "0hEtKV4azTxb",
        "outputId": "eac2d4c6-6815-4085-c51d-8e0c37023250"
      },
      "source": [
        "# Configuration of figure\n",
        "fig = plt.figure(figsize=(10, 10))\n",
        "\n",
        "#Plot barth with data\n",
        "plt.barh(keys_ACB, values_ACB)\n",
        "\n",
        "#Make a loops to get the values of each one.\n",
        "for index, value in enumerate(values_ACB):\n",
        "\n",
        "#Using text to put de values and ma to indicate right of barh\n",
        "    plt.text(value, index, str(value), ma= \"right\")\n",
        "\n",
        "\n",
        "plt.title(\"Nationality of ACB 2018-2019\")\n",
        "plt.show()"
      ],
      "execution_count": null,
      "outputs": [
        {
          "output_type": "display_data",
          "data": {
            "image/png": "[encoded data removed]",
            "text/plain": [
              "<Figure size 720x720 with 1 Axes>"
            ]
          },
          "metadata": {
            "tags": [],
            "needs_background": "light"
          }
        }
      ]
    }
  ]
}
