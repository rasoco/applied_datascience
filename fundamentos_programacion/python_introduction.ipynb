{
  "nbformat": 4,
  "nbformat_minor": 0,
  "metadata": {
    "kernelspec": {
      "display_name": "Python 3",
      "language": "python",
      "name": "python3"
    },
    "language_info": {
      "codemirror_mode": {
        "name": "ipython",
        "version": 3
      },
      "file_extension": ".py",
      "mimetype": "text/x-python",
      "name": "python",
      "nbconvert_exporter": "python",
      "pygments_lexer": "ipython3",
      "version": "3.8.2"
    },
    "colab": {
      "name": "prog_datasci_2_python_entrega.ipynb",
      "provenance": [],
      "include_colab_link": true
    }
  },
  "cells": [
    {
      "cell_type": "markdown",
      "metadata": {
        "id": "view-in-github",
        "colab_type": "text"
      },
      "source": [
        "<a href=\"https://colab.research.google.com/github/rasoco/applied_datascience/blob/main/fundamentos_programacion/prog_datasci_2_python_entrega.ipynb\" target=\"_parent\"><img src=\"https://colab.research.google.com/assets/colab-badge.svg\" alt=\"Open In Colab\"/></a>"
      ]
    },
    {
      "cell_type": "markdown",
      "metadata": {
        "id": "fg6Hxtypyqha"
      },
      "source": [
        "<div style=\"width: 100%; clear: both;\">\n",
        "    <div style=\"float: left; width: 50%;\">\n",
        "       <img src=\"http://www.uoc.edu/portal/_resources/common/imatges/marca_UOC/UOC_Masterbrand.jpg\", align=\"left\">\n",
        "    </div>\n",
        "</div>\n",
        "\n",
        "<div style=\"float: right; width: 50%;\">\n",
        "    <p style=\"margin: 0; padding-top: 22px; text-align:right;\">22.401 · Fonaments de Programació</p>\n",
        "    <p style=\"margin: 0; text-align:right;\">Grau en Ciència de Dades Aplicada</p>\n",
        "    <p style=\"margin: 0; text-align:right; padding-button: 100px;\">Estudis d'Informàtica, Multimèdia i Telecomunicació</p>\n",
        "</div>\n",
        "\n",
        "</div>\n",
        "<div style=\"width: 100%; clear: both;\">\n",
        "<div style=\"width:100%;\">&nbsp;</div>"
      ]
    },
    {
      "cell_type": "markdown",
      "metadata": {
        "id": "OOy7IUDbyqhb"
      },
      "source": [
        "Fundamentos de Programación\n",
        "============================\n",
        "\n",
        "PAC 2 - Enunciado\n",
        "-----------------------------------------------------\n",
        "\n",
        "En este Notebook se encontraréis el conjunto de actividades evaluables como PEC de la asignatura. Veréis que cada una de ellas tiene asociada una puntuación, que indica el peso que tiene la actividad sobre la nota final de la PEC. Adicionalmente, hay un ejercicio opcional, que no tiene puntuación dentro de la PEC, pero que se valora al final del semestre de cara a conceder las matrículas de honor y redondear las notas finales. Podréis sacar la máxima nota de la PAC sin necesidad de hacer este ejercicio. El objetivo de este ejercicio es que sirva como pequeño reto para los estudiantes que quieran profundizar en el contenido de la asignatura.\n",
        "\n",
        "Veréis que todas las actividades de la PEC tienen una etiqueta, que indica los recursos necesarios para llevarla a cabo. Hay tres posibles etiquetas:\n",
        "\n",
        "* <span style=\"font-family: Courier New; background-color: #82b74b; color: #000000; padding: 3px; \">NM</span> **Sólo materiales**: las herramientas necesarias para realizar la actividad se pueden encontrar en los materiales de la asignatura.\n",
        "\n",
        "* <span style = \"font-family: Courier New; background-color: #ffcc5c; color: #000000; padding: 3px; \">EG</span> **Consulta externa guiada**: la actividad puede requerir hacer uso de herramientas que no se encuentran en los materiales de la asignatura, pero el enunciado contiene indicaciones de dónde o cómo encontrar la información adicional necesaria para resolver la actividad.\n",
        "\n",
        "* <span style = \"font-family: Courier New; background-color: #f2ae72; color: #000000; padding: 3px;\">EI</span> **Consulta externa independiente**: la actividad puede requerir hacer uso de herramientas que no se encuentran en los materiales de la asignatura, y el enunciado puede no incluir la descripción de dónde o cómo encontrar esta información adicional. Será necesario que el estudiante busque esta información utilizando los recursos que se han explicado en la asignatura.\n",
        "\n",
        "Es importante notar que estas etiquetas no indican el nivel de dificultad del ejercicio, sino únicamente la necesidad de consulta de documentación externa para su resolución. Además, recordad que las **etiquetas son informativas**, pero podréis consultar referencias externas en cualquier momento (aunque no se indique explícitamente) o puede ser que podáis hacer una actividad sin consultar ningún tipo de documentación. Por ejemplo, para resolver una actividad que sólo requiera los materiales de la asignatura, puedéis consultar referencias externas si queréis, ya sea tanto para ayudaros en la resolución como para ampliar el conocimiento!\n",
        "\n",
        "En cuanto a la consulta de documentación externa en la resolución de los ejercicios, recordad **citar siempre la bibliografía utilizada** para resolver cada actividad.\n",
        "\n",
        "---"
      ]
    },
    {
      "cell_type": "markdown",
      "metadata": {
        "id": "o1lBsM0Ryqhb"
      },
      "source": [
        "Ejercicios y preguntas teóricas para la PEC\n",
        "-------------------------------\n"
      ]
    },
    {
      "cell_type": "markdown",
      "metadata": {
        "id": "t_w-NQmXyqhb"
      },
      "source": [
        "### Ejercicio 1\n",
        "\n",
        "Muestra el resultado de las operaciones y responde las preguntas:\n",
        "\n",
        "\n",
        "a = 5/2\n",
        "\n",
        "b = 5//2\n",
        "\n",
        "\n",
        "c = 2 * 3\n",
        "\n",
        "d = c\n",
        "\n",
        "d = 7 * 2\n",
        "\n",
        "\n",
        "\n",
        "\n",
        "a) Cuál es el valor de a y b? Por qué tienen valores diferentes? **(0.5 puntos)**\n",
        "\n",
        "b) Cuál es el valor de c y d? Por qué? **(0.5 puntos)**\n",
        "\n",
        "**(1 punto)** <span style=\"font-family: Courier New; background-color: #82b74b; color: #000000; padding: 2px; \">NM</span>"
      ]
    },
    {
      "cell_type": "markdown",
      "metadata": {
        "id": "Sf3IfBkHyqhc"
      },
      "source": [
        "El valor de a es número con decimales, es decir, de tipo float. Mientras que el valor b es un número en entero que redondea al número entero más cercano. "
      ]
    },
    {
      "cell_type": "markdown",
      "metadata": {
        "id": "dnvNblooyqhc"
      },
      "source": [
        "El valor de c es 6, es decir, el valor de la variable c. Mientras que el valor de d es 14 y no 6 (variable c) se toma como referencia la última ejecución que se realice en la variable d."
      ]
    },
    {
      "cell_type": "code",
      "metadata": {
        "id": "6SNb0jyLyqhc",
        "outputId": "7104532c-50d2-42c7-93b2-b946ec4b9e2a"
      },
      "source": [
        "# Value decimals number\n",
        "a = 5/2\n",
        "\n",
        "# Value integer number \n",
        "b = 5//2\n",
        "\n",
        "print(a)\n",
        "print(b)"
      ],
      "execution_count": null,
      "outputs": [
        {
          "output_type": "stream",
          "text": [
            "2.5\n",
            "2\n"
          ],
          "name": "stdout"
        }
      ]
    },
    {
      "cell_type": "markdown",
      "metadata": {
        "id": "bktxW7Tuyqhj"
      },
      "source": [
        "### Ejercicio 2\n",
        "\n",
        "El codigo que se presenta a continuación no funciona: \n",
        "\n",
        "Corrige el error y explica por qué sucede.  **(0.5 puntos)** <span style=\"font-family: Courier New; background-color: #82b74b; color: #000000; padding: 2px; \">NM</span>\n"
      ]
    },
    {
      "cell_type": "code",
      "metadata": {
        "id": "rxCBsJupyqhk",
        "outputId": "73bd29af-49b3-4166-a3b7-52f83c4bc161"
      },
      "source": [
        "name = \"Alex\"\n",
        "\n",
        "age = 20\n",
        "\n",
        "print(\"Hello, my name is %d and I'm %d years old!\" % (name, age))"
      ],
      "execution_count": null,
      "outputs": [
        {
          "output_type": "error",
          "ename": "TypeError",
          "evalue": "%d format: a number is required, not str",
          "traceback": [
            "\u001b[0;31m---------------------------------------------------------------------------\u001b[0m",
            "\u001b[0;31mTypeError\u001b[0m                                 Traceback (most recent call last)",
            "\u001b[0;32m<ipython-input-5-734b34da80ae>\u001b[0m in \u001b[0;36m<module>\u001b[0;34m\u001b[0m\n\u001b[1;32m      3\u001b[0m \u001b[0mage\u001b[0m \u001b[0;34m=\u001b[0m \u001b[0;36m20\u001b[0m\u001b[0;34m\u001b[0m\u001b[0;34m\u001b[0m\u001b[0m\n\u001b[1;32m      4\u001b[0m \u001b[0;34m\u001b[0m\u001b[0m\n\u001b[0;32m----> 5\u001b[0;31m \u001b[0mprint\u001b[0m\u001b[0;34m(\u001b[0m\u001b[0;34m\"Hello, my name is %d and I'm %d years old!\"\u001b[0m \u001b[0;34m%\u001b[0m \u001b[0;34m(\u001b[0m\u001b[0mname\u001b[0m\u001b[0;34m,\u001b[0m \u001b[0mage\u001b[0m\u001b[0;34m)\u001b[0m\u001b[0;34m)\u001b[0m\u001b[0;34m\u001b[0m\u001b[0;34m\u001b[0m\u001b[0m\n\u001b[0m",
            "\u001b[0;31mTypeError\u001b[0m: %d format: a number is required, not str"
          ]
        }
      ]
    },
    {
      "cell_type": "markdown",
      "metadata": {
        "id": "3Syz7562yqhk"
      },
      "source": [
        "No funciona porque el formato de name es tipo number (%d) cuando en realidad deberia de ser un string (%s)"
      ]
    },
    {
      "cell_type": "code",
      "metadata": {
        "id": "ayKqHHfgyqhk",
        "outputId": "3dd35c4b-d098-4a9a-93ce-ba698a48ea96"
      },
      "source": [
        "print(\"Hello, my name is %s and I'm %d years old!\" % (name, age))"
      ],
      "execution_count": null,
      "outputs": [
        {
          "output_type": "stream",
          "text": [
            "Hello, my name is Alex and I'm 20 years old!\n"
          ],
          "name": "stdout"
        }
      ]
    },
    {
      "cell_type": "markdown",
      "metadata": {
        "id": "EA3gJH_Cyqhl"
      },
      "source": [
        "### Ejercicio 3\n",
        "\n",
        "Escribe un programa que seleccione el nombre, el apellido y el año de nacimiento de la persona a la que hace referencia el texto. Muéstralos por pantalla. **(1 punto)** <span style=\"font-family: Courier New; background-color: #82b74b; color: #000000; padding: 2px; \">NM</span>"
      ]
    },
    {
      "cell_type": "code",
      "metadata": {
        "id": "bWH2v8yeyqhl",
        "outputId": "bca21c5d-97f1-432e-b21c-d983c03da980"
      },
      "source": [
        "frase = \"David Bowie was born in 1947\"\n",
        "print(frase)"
      ],
      "execution_count": null,
      "outputs": [
        {
          "output_type": "stream",
          "text": [
            "David Bowie was born in 1947\n"
          ],
          "name": "stdout"
        }
      ]
    },
    {
      "cell_type": "code",
      "metadata": {
        "id": "oiG6TRvnyqhl",
        "outputId": "2224f65a-e2d2-4d46-a885-05a818a8cec2"
      },
      "source": [
        "# print the name, surname and year in format string and specific in which part is in the variable\n",
        "print(\"Nombre: %s, Apellido: %s, Año de Nacimiento: %s\"  % (frase[0:5], frase[6:11], frase[-4:]))"
      ],
      "execution_count": null,
      "outputs": [
        {
          "output_type": "stream",
          "text": [
            "Nombre: David, Apellido: Bowie, Año de Nacimiento: 1947\n"
          ],
          "name": "stdout"
        }
      ]
    },
    {
      "cell_type": "markdown",
      "metadata": {
        "id": "46oflQLmyqhm"
      },
      "source": [
        "### Ejercicio 4\n",
        "\n",
        "Comprueba las siguientes afirmaciones:\n",
        "\n",
        "- La palabra `reconocer` es un palíndromo (capicúa).\n",
        "\n",
        "- `Permafrost` se puede construir a partir de las palabras `permanente` y `frost`.\n",
        "\n",
        "**Nota**: Para comprobar que una palabra es capicúa, muestra la palabra en orden inverso.\n",
        "**(1 punto)** <span style=\"font-family: Courier New; background-color: #82b74b; color: #000000; padding: 2px; \">NM</span>"
      ]
    },
    {
      "cell_type": "code",
      "metadata": {
        "id": "kQnGBIImyqhm",
        "outputId": "0c4f9033-9bca-4eb6-d88e-2dc55f0729ee"
      },
      "source": [
        "word = \"reconocer\"\n",
        "# create a conditional\n",
        "if str(word) == str(word[::-1]):\n",
        "    # if the word is capicua then the print the word\n",
        "    print(\"Es una palabra capicúa\", word[::-1])\n",
        "else:\n",
        "    # if not print \"no es una palabra capicua\"\n",
        "    print(\"No es una palabra capicúa\")"
      ],
      "execution_count": null,
      "outputs": [
        {
          "output_type": "stream",
          "text": [
            "Es una palabra capicúa reconocer\n"
          ],
          "name": "stdout"
        }
      ]
    },
    {
      "cell_type": "code",
      "metadata": {
        "id": "vwhkoQJxyqhn",
        "outputId": "1fa8a5c7-8aec-4400-9888-1ed21604a96a"
      },
      "source": [
        "word = \"permafrost\"\n",
        "if str(word) == str(word[::-1]):\n",
        "    print(\"Es una palabra capicúa\", word[::-1])\n",
        "else:\n",
        "    print(\"No es una palabra capicúa\")"
      ],
      "execution_count": null,
      "outputs": [
        {
          "output_type": "stream",
          "text": [
            "No es una palabra capicúa\n"
          ],
          "name": "stdout"
        }
      ]
    },
    {
      "cell_type": "markdown",
      "metadata": {
        "id": "qIa5rL9Iyqhn"
      },
      "source": [
        "### Ejercicio 5\n",
        "\n",
        "Escribe la fórmula de la ecuación de segundo grado, llamada también ecuación cuadrática, donde a, b y c son los parámetros de la ecuación.\n",
        "\n",
        "Considera diferentes valores de a, b y c. En caso de que el resultado sea un número complejo, como accedemos a la parte imaginaria y la parte real?\n",
        "\n",
        "**Nota**: Podéis encontrar la referencia de la formula en la página siguiente: https://es.wikipedia.org/wiki/Ecuaci%C3%B3n_de_segundo_grado \n",
        "\n",
        "**(1 punto)** <span style=\"font-family: Courier New; background-color: #82b74b; color: #000000; padding: 2px; \">NM</span>"
      ]
    },
    {
      "cell_type": "code",
      "metadata": {
        "id": "M_whWdc1yqhn",
        "outputId": "91c2e563-8ce8-41ea-cb72-5c571ad2002f"
      },
      "source": [
        "from math import sqrt\n",
        "# Create a variable\n",
        "A = 9\n",
        "B = 1\n",
        "C = 1\n",
        "# Create formula \n",
        "dis = (B**2-(4*A*C))\n",
        "\n",
        "if dis <0:\n",
        "    print(\"El número real es %d y el número imaginario es %d\" % (dis.real, dis.imag))\n",
        "else:\n",
        "    x1 = (-B+sqrt(B**2-(4*A*C)))/(2*A)\n",
        "    x2 = (-B-sqrt(B**2-(4*A*C)))/(2*A)\n",
        "    print(\"Las soluciones de la ecuación son:\" % (x1, x2))"
      ],
      "execution_count": null,
      "outputs": [
        {
          "output_type": "stream",
          "text": [
            "El número real es -35 y el número imaginario es 0\n"
          ],
          "name": "stdout"
        }
      ]
    },
    {
      "cell_type": "markdown",
      "metadata": {
        "id": "vqSWyWZbyqho"
      },
      "source": [
        "### Ejercicio 6\n",
        "\n",
        "\n",
        "Escribe un programa que, dado un string `dia` que haga referencia a un día de la semana, imprima si el contenido de este string es un día del fin de semana. Por ejemplo, si `dia` es `lunes`, debería mostrar por pantalla una cadena de caracteres con el siguiente formato:\n",
        "\n",
        "```El lunes es fin de semana? : False.```\n",
        "\n",
        "**Nota 1** : Para resolver este ejercicio podéis buscar información en *Stackoverflow*: https://stackoverflow.com/questions/10406130/check-if-something-is-not-in-a-list-in-python/10406143\n",
        "\n",
        "**Nota 2**: Podemos suponer que el dia introducido siempre está en minúscula.\n",
        "\n",
        "**(1 punto)** <span style=\"font-family: Courier New; background-color: #ffcc5c; color: #000000; padding: 3px; \">EG</span>"
      ]
    },
    {
      "cell_type": "code",
      "metadata": {
        "id": "cOo3knfJyqho",
        "outputId": "6164af1d-4d2d-41a2-d5f5-eac18c893ad7"
      },
      "source": [
        "# Create a variable day, we ask the user on screen\n",
        "day = input(\"Dime un día de la semana: \")\n",
        "# Create a variable a tha save the value of day an wantend in the list\n",
        "a = day in [\"sabado\", \"domingo\"]\n",
        "#print the day and return if true or false\n",
        "print(\"El %s es finde de semana? : %r\" % (day, a))"
      ],
      "execution_count": null,
      "outputs": [
        {
          "output_type": "stream",
          "text": [
            "Dime un día de la semana: lunes\n",
            "El lunes es finde de semana? : False\n"
          ],
          "name": "stdout"
        }
      ]
    },
    {
      "cell_type": "markdown",
      "metadata": {
        "id": "zpqNl-zFyqho"
      },
      "source": [
        "### Ejercicio 7\n",
        "\n",
        "Durante los últimos meses hemos visto muchas series de TV y nos gustaría tener una recopilación de notas para cada una de ellas. Por ejemplo, `Juego de Tronos: 9.5`.\n",
        "\n",
        "a) Qué tipo de variable podemos utilizar para almacenar esta información? Razona la respuesta. **(0.5 puntos)**\n",
        "\n",
        "b) Escribe un programa donde se definan un listado de series de TV con sus respectivas notas asociadas. A continuación, muestra por pantalla el nombre y la nota de tres elementos. (**1 punto)**\n",
        "\n",
        "\n",
        "**(1.5 puntos)** <span style=\"font-family: Courier New; background-color: #82b74b; color: #000000; padding: 2px; \">NM</span>"
      ]
    },
    {
      "cell_type": "markdown",
      "metadata": {
        "id": "_BO4KKuuyqho"
      },
      "source": [
        "Utilizaría un diccionario para guardar para asignar un valor, Series, a una clave, la nota de la serie."
      ]
    },
    {
      "cell_type": "code",
      "metadata": {
        "id": "XWRv-SgJyqho",
        "outputId": "1485e208-008c-490d-bfe4-533baeb738dd"
      },
      "source": [
        "# Create a dictionary \n",
        "ranking_series = {\"Juego de Tronos\": 9.5, \"Breaking Bad\": 8.8, \"Friends\": 8.5, \"Narcos\": 8.3, \"La Casa de Papel\": 7.0}\n",
        "\n",
        "#print the first three values\n",
        "list(ranking_series.items())[:3]"
      ],
      "execution_count": null,
      "outputs": [
        {
          "output_type": "execute_result",
          "data": {
            "text/plain": [
              "[('Juego de Tronos', 9.5), ('Breaking Bad', 8.8), ('Friends', 8.5)]"
            ]
          },
          "metadata": {
            "tags": []
          },
          "execution_count": 83
        }
      ]
    },
    {
      "cell_type": "markdown",
      "metadata": {
        "id": "N5m6pZ5Hyqhp"
      },
      "source": [
        "### Ejercicio 8\n",
        "\n",
        "Debido a un error de procesamiento, la frase del ejercicio 1 se ha modificado y donde había espacios entre las palabras se ha puesto el símbolo @.\n",
        "\n",
        "`David@Bowie@was@born@in@1947`\n",
        "\n",
        "Escribe un programa que separe los elementos de la lista, es decir, que en lugar de David@Bowie tengamos dos elementos, 'David' y 'Bowie'.\n",
        "\n",
        "**(1 punto)** <span style=\"font-family: Courier New; background-color: #82b74b; color: #000000; padding: 2px; \">NM</span>"
      ]
    },
    {
      "cell_type": "code",
      "metadata": {
        "id": "56YiVgM-yqhp"
      },
      "source": [
        "# Definimos la lista de entrada\n",
        "frase = \"David@Bowie@was@born@in@1947\""
      ],
      "execution_count": null,
      "outputs": []
    },
    {
      "cell_type": "code",
      "metadata": {
        "id": "UFmfA5Ibyqhq",
        "outputId": "c1e20a33-5bb4-4c82-92ec-53d209921d1c"
      },
      "source": [
        "# Use split method to separate the list with \"@\" separator\n",
        "frase.split(\"@\")"
      ],
      "execution_count": null,
      "outputs": [
        {
          "output_type": "execute_result",
          "data": {
            "text/plain": [
              "['David', 'Bowie', 'was', 'born', 'in', '1947']"
            ]
          },
          "metadata": {
            "tags": []
          },
          "execution_count": 91
        }
      ]
    },
    {
      "cell_type": "markdown",
      "metadata": {
        "id": "0Yp_yj2Eyqhs"
      },
      "source": [
        "### Ejercicio 9\n",
        "\n",
        "Dada la siguiente lista:\n",
        "\n",
        "`[36, 4, 16, 100, 64]`\n",
        "\n",
        "Proporciona una expresión que devuelva:"
      ]
    },
    {
      "cell_type": "markdown",
      "metadata": {
        "id": "yVkCSoX2yqhs"
      },
      "source": [
        "**a)** La lista ordenada:**(0.5 puntos)** <span style=\"font-family: Courier New; background-color: #ffcc5c; color: #000000; padding: 3px; \">EG</span>\n",
        "\n",
        "**Nota**: Para hacer este apartado, explora la función [sorted](https://docs.python.org/3/howto/sorting.html):"
      ]
    },
    {
      "cell_type": "code",
      "metadata": {
        "id": "XS5lEUCbyqhs",
        "outputId": "5e4c572d-3aa7-41df-b628-a4957facc306"
      },
      "source": [
        "data = [36, 4, 16, 100, 64]\n",
        "# Use the function sorted to order the list\n",
        "sorted(data)"
      ],
      "execution_count": null,
      "outputs": [
        {
          "output_type": "execute_result",
          "data": {
            "text/plain": [
              "[4, 16, 36, 64, 100]"
            ]
          },
          "metadata": {
            "tags": []
          },
          "execution_count": 53
        }
      ]
    },
    {
      "cell_type": "markdown",
      "metadata": {
        "id": "jp-v7sobyqhs"
      },
      "source": [
        "**b)** El valor máximo y mínimo de la lista:\n",
        "**(0.5 puntos)** <span style=\"font-family: Courier New; background-color: #ffcc5c; color: #000000; padding: 3px; \">EG</span>\n",
        "\n",
        "**Nota**: Para hacer este apartado, consulta la siguiente [tabla](https://docs.python.org/3/library/functions.html):"
      ]
    },
    {
      "cell_type": "code",
      "metadata": {
        "id": "LKVA1sb4yqhs",
        "outputId": "dcf711d9-31aa-4777-cd2b-5c8af023a3d5"
      },
      "source": [
        "# Use the function min and max to return minimun and maximun value of the list\n",
        "print(min(data))\n",
        "print(max(data))"
      ],
      "execution_count": null,
      "outputs": [
        {
          "output_type": "stream",
          "text": [
            "4\n",
            "100\n"
          ],
          "name": "stdout"
        }
      ]
    },
    {
      "cell_type": "markdown",
      "metadata": {
        "id": "-XZYoMSMyqhs"
      },
      "source": [
        "**c)** Fíjate que la lista con la que estamos trabajando es una lista de los cuadrados de los números naturales pares entre 1 y 10 (ambos incluidos).\n",
        "\n",
        "Genera esta lista utilizando el _idiom_ de [*list comprehensions*](https://ca.wikipedia.org/wiki/Llista_per_comprensi%C3%B3) **(1 punto)** <span style=\"font-family: Courier New; background-color: #ffcc5c; color: #000000; padding: 3px; \">EG</span>"
      ]
    },
    {
      "cell_type": "code",
      "metadata": {
        "id": "b2t49FQFyqhs",
        "outputId": "03db6273-7e7b-49a2-b931-6a537850bff3"
      },
      "source": [
        "# Create a list with iterable\n",
        "# for i in range(1, 11): to range 1 until 10, put 11 because in python you sum one more. \n",
        "# i ** 2: square number 1 al 10. \n",
        "# if i % 2: To print: the conditional is the number will have pair. \n",
        "sqr_num = [i ** 2 for i in range(1,11) if i % 2 == 0]\n",
        "sqr_num"
      ],
      "execution_count": null,
      "outputs": [
        {
          "output_type": "execute_result",
          "data": {
            "text/plain": [
              "[4, 16, 36, 64, 100]"
            ]
          },
          "metadata": {
            "tags": []
          },
          "execution_count": 64
        }
      ]
    },
    {
      "cell_type": "markdown",
      "metadata": {
        "id": "jndOGqtByqhs"
      },
      "source": [
        "### Ejercicio Opcional\n",
        "\n",
        "Escribe un programa que, dado un número de DNI, NIF o NIE, compruebe que sea válido. Los puntos que se deben tener en cuenta son:\n",
        "\n",
        "- Que el código tenga una longitud de 9 dígitos, todos numéricos menos el primer (extranjeros) y el último (control) que pueden estar entre unas letras concretas.\n",
        "\n",
        "- Si es extranjero, se sustituirá la primera letra por su número correspondiente antes de calcular el dígito de control.\n",
        "\n",
        "- Se comprobará el dígito de control (última letra).\n",
        "\n",
        "**Nota**: Para más información sobre el cálculo de la letra, consulta esta [web](http://www.interior.gob.es/es/web/servicios-al-ciudadano/dni/calculo-del-digito-de-control-del-nif-nie).\n",
        "\n",
        "Para hacer este ejercicio, puede que necesites utilizar [bucles](https://es.wikipedia.org/wiki/Python#Bucle_for). <span style=\"font-family: Courier New; background-color: #f2ae72; color: #000000; padding: 3px; \">EI</span> "
      ]
    },
    {
      "cell_type": "code",
      "metadata": {
        "id": "o2VygPuRyqhs",
        "outputId": "a3d33eff-82cf-4ed9-e665-6d9fc396417a"
      },
      "source": [
        "#Ask user NIE or NIF\n",
        "number = (input(\"Introduzca su DNI o NIE \"))\n",
        "#Create diccionary of letter \n",
        "diccionario = {0:\"T\",1:\"R\",2:\"W\",3:\"A\",4:\"G\",5:\"M\",6:\"Y\",7:\"F\",8:\"P\",9:\"D\",10:\"X\",\n",
        "\n",
        "               11:\"B\",12:\"N\",13:\"J\",14:\"Z\",15:\"S\",16:\"Q\",17:\"V\",18:\"H\",19:\"L\",\n",
        "\n",
        "               20:\"C\",21:\"K\",22:\"E\"}\n",
        "\n",
        "#Create diccionary of transformate first letter Nie\n",
        "diccionario_nie = {\"X\":0, \"Y\":1, \"Z\":2}\n",
        "#Check first nie variable\n",
        "letters_nie = \"XxYyZz\"\n",
        "letter_dni = \"\"\n",
        "\n",
        "if len(number) == 9:\n",
        "\n",
        "#For loop to verificate NIE and NIF\n",
        "    for i in letters_nie:\n",
        "            first_nie = number[0]\n",
        "            \n",
        "#First conditional to get NIE    \n",
        "    if i == first_nie:\n",
        "        nie_original = number[-1]\n",
        "        letter_nie = diccionario_nie.get(first_nie, 0)\n",
        "        number_nie = int(number[1:-2])\n",
        "        rest_nie = (letter_nie + number_nie) % 23\n",
        "        calculate_nie= diccionario[rest_nie]\n",
        "    # if letter original is equal letter calculate then is okey\n",
        "        if nie_original.upper() == calculate_nie:\n",
        "            print(\"Su letra de NIE es correcta %s %s\"% (number_nie,nie_original))\n",
        "       # else return the correct letter          \n",
        "        else: \n",
        "            print(\"Su letra de NIE no es %s sino es %s%s\"%(nie_original,number_nie,calculate_nie))\n",
        "            \n",
        "    else:\n",
        "# Second conditional to get NIF        \n",
        "        dni_original = number[-1]\n",
        "        number_dni = number[:-1]\n",
        "        rest_dni = int(number_dni) % 23\n",
        "        calculate_dni = diccionario[rest_dni]\n",
        "        # if letter original is equal letter calculate then is okey\n",
        "        if dni_original.upper() == calculate_dni:\n",
        "            print(\"Su letra de DNI es correcta %s %s\"% (number_dni,dni_original))\n",
        "        # else return the correct letter    \n",
        "        else: \n",
        "            print(\"Su letra de DNI no es %s sino es %s%s\"%(dni_original, number_dni, calculate_dni))"
      ],
      "execution_count": null,
      "outputs": [
        {
          "output_type": "stream",
          "text": [
            "Introduzca su DNI o NIE z1234567a\n",
            "Su letra de NIE no es a sino es 123456S\n"
          ],
          "name": "stdout"
        }
      ]
    }
  ]
}
